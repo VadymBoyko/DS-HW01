{
  "nbformat": 4,
  "nbformat_minor": 0,
  "metadata": {
    "colab": {
      "provenance": [],
      "authorship_tag": "ABX9TyOl8JpCGbcNn3Pl4N5ho0KE",
      "include_colab_link": true
    },
    "kernelspec": {
      "name": "python3",
      "display_name": "Python 3"
    },
    "language_info": {
      "name": "python"
    }
  },
  "cells": [
    {
      "cell_type": "markdown",
      "metadata": {
        "id": "view-in-github",
        "colab_type": "text"
      },
      "source": [
        "<a href=\"https://colab.research.google.com/github/VadymBoyko/DS-HW01/blob/main/Hw1.ipynb\" target=\"_parent\"><img src=\"https://colab.research.google.com/assets/colab-badge.svg\" alt=\"Open In Colab\"/></a>"
      ]
    },
    {
      "cell_type": "code",
      "execution_count": 2,
      "metadata": {
        "id": "h1JAL_bcppsN"
      },
      "outputs": [],
      "source": [
        "import numpy as np\n"
      ]
    },
    {
      "cell_type": "code",
      "source": [
        "a1 = np.arange(1, 11)\n",
        "print(a1)"
      ],
      "metadata": {
        "colab": {
          "base_uri": "https://localhost:8080/"
        },
        "id": "V3Mo8qhRPNpS",
        "outputId": "5f398e10-73d8-4871-f3dd-0eae22e6664f"
      },
      "execution_count": 3,
      "outputs": [
        {
          "output_type": "stream",
          "name": "stdout",
          "text": [
            "[ 1  2  3  4  5  6  7  8  9 10]\n"
          ]
        }
      ]
    },
    {
      "cell_type": "code",
      "source": [
        "a2 = np.zeros((3, 3))\n",
        "print(a2)"
      ],
      "metadata": {
        "colab": {
          "base_uri": "https://localhost:8080/"
        },
        "id": "M7Nb-PBlPPqr",
        "outputId": "207057fb-0278-4a68-d785-e4a5d7222d0a"
      },
      "execution_count": 4,
      "outputs": [
        {
          "output_type": "stream",
          "name": "stdout",
          "text": [
            "[[0. 0. 0.]\n",
            " [0. 0. 0.]\n",
            " [0. 0. 0.]]\n"
          ]
        }
      ]
    },
    {
      "cell_type": "code",
      "source": [
        "a3 = np.random.randint(1, 11, size=(5, 5))\n",
        "print(a3)"
      ],
      "metadata": {
        "colab": {
          "base_uri": "https://localhost:8080/"
        },
        "id": "KNqPnP1YPtFO",
        "outputId": "459c21fb-886d-4813-fb49-79d25123e8b5"
      },
      "execution_count": 5,
      "outputs": [
        {
          "output_type": "stream",
          "name": "stdout",
          "text": [
            "[[ 9  9  8  8  5]\n",
            " [ 2  3  6  1  9]\n",
            " [ 7  3  8  5  1]\n",
            " [10  2  5  1  5]\n",
            " [ 8  2  2  3  1]]\n"
          ]
        }
      ]
    },
    {
      "cell_type": "code",
      "source": [
        "a4 = np.random.rand(4, 4)\n",
        "print(a4)"
      ],
      "metadata": {
        "colab": {
          "base_uri": "https://localhost:8080/"
        },
        "id": "SoudMZIrP7ja",
        "outputId": "869efc0b-2fc0-49c4-ea13-f6290f571d05"
      },
      "execution_count": 7,
      "outputs": [
        {
          "output_type": "stream",
          "name": "stdout",
          "text": [
            "[[0.55103847 0.37574492 0.57956819 0.27324043]\n",
            " [0.28505802 0.94407906 0.34415121 0.3895758 ]\n",
            " [0.41938117 0.74960708 0.68575488 0.87762027]\n",
            " [0.43994071 0.45991471 0.18957592 0.33942009]]\n"
          ]
        }
      ]
    },
    {
      "cell_type": "code",
      "source": [
        "a5_1 = np.random.randint(1, 11, size=5)\n",
        "a5_2 = np.random.randint(1, 11, size=5)\n",
        "print(a5_1)\n",
        "print(a5_2)\n",
        "print('ADD:', a5_1 + a5_2)\n",
        "print('SUB:', a5_1 - a5_2)\n",
        "print('MUL:', a5_1 * a5_2)"
      ],
      "metadata": {
        "colab": {
          "base_uri": "https://localhost:8080/"
        },
        "id": "6zCvNmzfQRw8",
        "outputId": "710dd021-ce25-439f-b2a5-d3fb77cd2f9f"
      },
      "execution_count": 9,
      "outputs": [
        {
          "output_type": "stream",
          "name": "stdout",
          "text": [
            "[6 6 9 7 6]\n",
            "[ 4 10 10 10 10]\n",
            "ADD: [10 16 19 17 16]\n",
            "SUB: [ 2 -4 -1 -3 -4]\n",
            "MUL: [24 60 90 70 60]\n"
          ]
        }
      ]
    },
    {
      "cell_type": "code",
      "source": [
        "a6_1 = np.random.randint(1, 101, size=7)\n",
        "a6_2 = np.random.randint(1, 101, size=7)\n",
        "print(a6_1)\n",
        "print(a6_2)\n",
        "print(np.dot(a6_1, a6_2))"
      ],
      "metadata": {
        "colab": {
          "base_uri": "https://localhost:8080/"
        },
        "id": "9b0KdyztRo1k",
        "outputId": "1117178a-e442-43a5-bb5e-ace826d97006"
      },
      "execution_count": 10,
      "outputs": [
        {
          "output_type": "stream",
          "name": "stdout",
          "text": [
            "[ 2 92 73 84 15 17 36]\n",
            "[63 38 63 71 77 49 35]\n",
            "17433\n"
          ]
        }
      ]
    },
    {
      "cell_type": "code",
      "source": [
        "a7_1 = np.random.randint(1, 11, size=(2, 2))\n",
        "a7_2 = np.random.randint(1, 11, size=(2, 3))\n",
        "print(a7_1)\n",
        "print(a7_2)\n",
        "print(np.dot(a7_1, a7_2))"
      ],
      "metadata": {
        "colab": {
          "base_uri": "https://localhost:8080/"
        },
        "id": "ulPDkkMWR46t",
        "outputId": "ced1d5ae-3586-4870-a186-ec38fae84390"
      },
      "execution_count": 13,
      "outputs": [
        {
          "output_type": "stream",
          "name": "stdout",
          "text": [
            "[[ 9  5]\n",
            " [ 2 10]]\n",
            "[[ 2  9  3]\n",
            " [ 5  8 10]]\n",
            "[[ 43 121  77]\n",
            " [ 54  98 106]]\n"
          ]
        }
      ]
    },
    {
      "cell_type": "code",
      "source": [
        "a8 = np.random.randint(1, 11, size=(3, 3))\n",
        "print(a8)\n",
        "print(np.linalg.inv(a8))"
      ],
      "metadata": {
        "colab": {
          "base_uri": "https://localhost:8080/"
        },
        "id": "XDxBTQRHSxAm",
        "outputId": "e7c7bc35-ce78-4cc1-a2fa-65d6bcd7444e"
      },
      "execution_count": 14,
      "outputs": [
        {
          "output_type": "stream",
          "name": "stdout",
          "text": [
            "[[8 4 2]\n",
            " [3 7 7]\n",
            " [9 8 3]]\n",
            "[[ 0.24647887 -0.02816901 -0.09859155]\n",
            " [-0.38028169 -0.04225352  0.35211268]\n",
            " [ 0.27464789  0.1971831  -0.30985915]]\n"
          ]
        }
      ]
    },
    {
      "cell_type": "code",
      "source": [
        "a9 = np.random.rand(4, 4)\n",
        "print(a9)\n",
        "print(a9.T)"
      ],
      "metadata": {
        "colab": {
          "base_uri": "https://localhost:8080/"
        },
        "id": "n5I-VCaHTIso",
        "outputId": "dc3c64b0-11e9-45dd-e3ae-029ba7c98824"
      },
      "execution_count": 15,
      "outputs": [
        {
          "output_type": "stream",
          "name": "stdout",
          "text": [
            "[[0.33424894 0.00217616 0.94952016 0.82132342]\n",
            " [0.75193469 0.65039617 0.71740703 0.67238169]\n",
            " [0.08570975 0.31176141 0.52447887 0.35897844]\n",
            " [0.95496652 0.82866022 0.70981301 0.19536311]]\n",
            "[[0.33424894 0.75193469 0.08570975 0.95496652]\n",
            " [0.00217616 0.65039617 0.31176141 0.82866022]\n",
            " [0.94952016 0.71740703 0.52447887 0.70981301]\n",
            " [0.82132342 0.67238169 0.35897844 0.19536311]]\n"
          ]
        }
      ]
    },
    {
      "cell_type": "code",
      "source": [
        "a10_1 = np.random.randint(1, 11, size=(3, 4))\n",
        "a10_2 = np.random.randint(1, 11, size=4)\n",
        "\n",
        "print(a10_1)\n",
        "print(a10_2)\n",
        "\n",
        "print(np.dot(a10_1, a10_2))"
      ],
      "metadata": {
        "colab": {
          "base_uri": "https://localhost:8080/"
        },
        "id": "df0XD8slTT1n",
        "outputId": "0b8716d9-22eb-41dc-880e-8671c95eb399"
      },
      "execution_count": 16,
      "outputs": [
        {
          "output_type": "stream",
          "name": "stdout",
          "text": [
            "[[ 1  7 10  2]\n",
            " [10  1  2  7]\n",
            " [10  7  6  6]]\n",
            "[4 9 2 8]\n",
            "[103 109 163]\n"
          ]
        }
      ]
    },
    {
      "cell_type": "code",
      "source": [
        "a11_1 = np.random.random((2, 3))\n",
        "a11_2 = np.random.random(3)\n",
        "print(a11_1)\n",
        "print(a11_2)\n",
        "\n",
        "print(np.dot(a11_1, a11_2))"
      ],
      "metadata": {
        "colab": {
          "base_uri": "https://localhost:8080/"
        },
        "id": "ffeRKa7YT-hA",
        "outputId": "4df71d50-5053-4bbb-da0c-2ca7b9d58062"
      },
      "execution_count": 17,
      "outputs": [
        {
          "output_type": "stream",
          "name": "stdout",
          "text": [
            "[[0.68876924 0.30457254 0.20047339]\n",
            " [0.65215004 0.63327852 0.62094135]]\n",
            "[0.82993434 0.10324492 0.60112403]\n",
            "[0.72358819 0.97988727]\n"
          ]
        }
      ]
    },
    {
      "cell_type": "code",
      "source": [
        "a12_1 = np.random.randint(1, 11, size=(2, 2))\n",
        "a12_2 = np.random.randint(1, 11, size=(2, 2))\n",
        "print(a12_1)\n",
        "print(a12_2)\n",
        "print(np.multiply(a12_1, a12_2))"
      ],
      "metadata": {
        "colab": {
          "base_uri": "https://localhost:8080/"
        },
        "id": "fMHfjc3jUJEj",
        "outputId": "460a056e-82fd-432a-f5c7-f9ca9438af2a"
      },
      "execution_count": 18,
      "outputs": [
        {
          "output_type": "stream",
          "name": "stdout",
          "text": [
            "[[7 2]\n",
            " [4 9]]\n",
            "[[2 8]\n",
            " [9 3]]\n",
            "[[14 16]\n",
            " [36 27]]\n"
          ]
        }
      ]
    },
    {
      "cell_type": "code",
      "source": [
        "a13_1 = np.random.randint(1, 11, size=(2, 2))\n",
        "a13_2 = np.random.randint(1, 11, size=(2, 2))\n",
        "print(a13_1)\n",
        "print(a13_2)\n",
        "print(np.dot(a13_1, a13_2))"
      ],
      "metadata": {
        "colab": {
          "base_uri": "https://localhost:8080/"
        },
        "id": "LiW3XkMvUlMc",
        "outputId": "b7e53be6-877d-4a04-e6ef-e6c1c1247a74"
      },
      "execution_count": 19,
      "outputs": [
        {
          "output_type": "stream",
          "name": "stdout",
          "text": [
            "[[5 6]\n",
            " [7 9]]\n",
            "[[7 5]\n",
            " [1 6]]\n",
            "[[41 61]\n",
            " [58 89]]\n"
          ]
        }
      ]
    },
    {
      "cell_type": "code",
      "source": [
        "a14 = np.random.randint(1, 101, size=(5, 5))\n",
        "print(a14)\n",
        "print(np.sum(a14))"
      ],
      "metadata": {
        "colab": {
          "base_uri": "https://localhost:8080/"
        },
        "id": "dNkFMnpFVL3h",
        "outputId": "dd0592a2-107d-40d0-90c5-18d72c3e48cc"
      },
      "execution_count": 20,
      "outputs": [
        {
          "output_type": "stream",
          "name": "stdout",
          "text": [
            "[[57 37 85 53 71]\n",
            " [28 30 43  3 23]\n",
            " [30 50 68  1 96]\n",
            " [37 60 44  9 69]\n",
            " [39 35 12 52 90]]\n",
            "1122\n"
          ]
        }
      ]
    },
    {
      "cell_type": "code",
      "source": [
        "a15_1 = np.random.randint(1, 11, size=(4, 4))\n",
        "a15_2 = np.random.randint(1, 11, size=(4, 4))\n",
        "print(a15_1)\n",
        "print(a15_2)\n",
        "print(a15_1 - a15_2)"
      ],
      "metadata": {
        "colab": {
          "base_uri": "https://localhost:8080/"
        },
        "id": "811dhcUBVVNM",
        "outputId": "bf719e85-2dcc-473f-8be8-564a7d808df9"
      },
      "execution_count": 22,
      "outputs": [
        {
          "output_type": "stream",
          "name": "stdout",
          "text": [
            "[[ 8  9  4 10]\n",
            " [ 6  6 10  5]\n",
            " [ 1  1  6  1]\n",
            " [ 5  1  6 10]]\n",
            "[[ 5  4 10  3]\n",
            " [ 6  5  6  5]\n",
            " [ 4 10  1  5]\n",
            " [ 1  3  3  9]]\n",
            "[[ 3  5 -6  7]\n",
            " [ 0  1  4  0]\n",
            " [-3 -9  5 -4]\n",
            " [ 4 -2  3  1]]\n"
          ]
        }
      ]
    },
    {
      "cell_type": "code",
      "source": [
        "a16 = np.random.random((3, 3))\n",
        "print(a16)\n",
        "print(np.sum(a16, axis=1).reshape((-1, 1)))"
      ],
      "metadata": {
        "colab": {
          "base_uri": "https://localhost:8080/"
        },
        "id": "HXaOrwTzVt-O",
        "outputId": "bdad36af-5383-4740-bf05-1c32d1a2d6b7"
      },
      "execution_count": 24,
      "outputs": [
        {
          "output_type": "stream",
          "name": "stdout",
          "text": [
            "[[0.74036128 0.19298381 0.58684252]\n",
            " [0.9503993  0.52672056 0.03851617]\n",
            " [0.17303936 0.69612426 0.88527189]]\n",
            "[[1.52018761]\n",
            " [1.51563603]\n",
            " [1.75443551]]\n"
          ]
        }
      ]
    },
    {
      "cell_type": "code",
      "source": [
        "a17 = np.random.randint(1, 11, size=(3, 4))\n",
        "print(a17)\n",
        "print(np.square(a17))"
      ],
      "metadata": {
        "colab": {
          "base_uri": "https://localhost:8080/"
        },
        "id": "dqQXAfcZVVTs",
        "outputId": "7ee667b1-2253-43bf-dd93-cf0612e4135c"
      },
      "execution_count": 25,
      "outputs": [
        {
          "output_type": "stream",
          "name": "stdout",
          "text": [
            "[[1 1 1 2]\n",
            " [3 8 4 4]\n",
            " [5 6 5 7]]\n",
            "[[ 1  1  1  4]\n",
            " [ 9 64 16 16]\n",
            " [25 36 25 49]]\n"
          ]
        }
      ]
    },
    {
      "cell_type": "code",
      "source": [
        "a18 = np.random.randint(1, 50, size=4)\n",
        "print(a18)\n",
        "print(np.sqrt(a18))\n"
      ],
      "metadata": {
        "colab": {
          "base_uri": "https://localhost:8080/"
        },
        "id": "KS3Nv6MBWfU8",
        "outputId": "fe31005f-2fed-4d87-b4d9-d5e486559c01"
      },
      "execution_count": 26,
      "outputs": [
        {
          "output_type": "stream",
          "name": "stdout",
          "text": [
            "[28 18 29 32]\n",
            "[5.29150262 4.24264069 5.38516481 5.65685425]\n"
          ]
        }
      ]
    },
    {
      "cell_type": "code",
      "source": [],
      "metadata": {
        "id": "9D-JYaVEbUXt"
      },
      "execution_count": null,
      "outputs": []
    }
  ]
}