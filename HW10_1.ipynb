{
  "nbformat": 4,
  "nbformat_minor": 0,
  "metadata": {
    "colab": {
      "provenance": [],
      "authorship_tag": "ABX9TyMcmyt2L2GsnPAwEBOBhEtt",
      "include_colab_link": true
    },
    "kernelspec": {
      "name": "python3",
      "display_name": "Python 3"
    },
    "language_info": {
      "name": "python"
    }
  },
  "cells": [
    {
      "cell_type": "markdown",
      "metadata": {
        "id": "view-in-github",
        "colab_type": "text"
      },
      "source": [
        "<a href=\"https://colab.research.google.com/github/VadymBoyko/DS-HW01/blob/main/HW10_1.ipynb\" target=\"_parent\"><img src=\"https://colab.research.google.com/assets/colab-badge.svg\" alt=\"Open In Colab\"/></a>"
      ]
    },
    {
      "cell_type": "code",
      "execution_count": null,
      "metadata": {
        "id": "9ebP5SLTtkGF"
      },
      "outputs": [],
      "source": [
        "import numpy as np\n",
        "import matplotlib.pyplot as plt\n",
        "from keras.datasets import fashion_mnist\n",
        "from keras.models import Sequential\n",
        "from keras.layers import Conv2D, MaxPooling2D, Flatten, Dense, Dropout\n",
        "from keras.utils import to_categorical\n"
      ]
    },
    {
      "cell_type": "code",
      "source": [
        "(train_images, train_labels), (test_images, test_labels) = fashion_mnist.load_data()\n",
        "\n",
        "train_images = train_images.reshape((60000, 28, 28, 1)).astype('float32') / 255\n",
        "test_images = test_images.reshape((10000, 28, 28, 1)).astype('float32') / 255\n",
        "\n",
        "train_labels = to_categorical(train_labels)\n",
        "test_labels = to_categorical(test_labels)"
      ],
      "metadata": {
        "id": "vC6ipK6Ptpmy",
        "colab": {
          "base_uri": "https://localhost:8080/"
        },
        "outputId": "58e4ff44-444c-4ccb-b8a9-8c5b48a7a833"
      },
      "execution_count": null,
      "outputs": [
        {
          "output_type": "stream",
          "name": "stdout",
          "text": [
            "Downloading data from https://storage.googleapis.com/tensorflow/tf-keras-datasets/train-labels-idx1-ubyte.gz\n",
            "29515/29515 [==============================] - 0s 1us/step\n",
            "Downloading data from https://storage.googleapis.com/tensorflow/tf-keras-datasets/train-images-idx3-ubyte.gz\n",
            "26421880/26421880 [==============================] - 2s 0us/step\n",
            "Downloading data from https://storage.googleapis.com/tensorflow/tf-keras-datasets/t10k-labels-idx1-ubyte.gz\n",
            "5148/5148 [==============================] - 0s 0us/step\n",
            "Downloading data from https://storage.googleapis.com/tensorflow/tf-keras-datasets/t10k-images-idx3-ubyte.gz\n",
            "4422102/4422102 [==============================] - 1s 0us/step\n"
          ]
        }
      ]
    },
    {
      "cell_type": "code",
      "source": [
        "model = Sequential()\n",
        "\n",
        "model.add(Conv2D(32, (3, 3), activation='relu', input_shape=(28, 28, 1)))\n",
        "model.add(MaxPooling2D((2, 2)))\n",
        "model.add(Conv2D(64, (3, 3), activation='relu'))\n",
        "model.add(MaxPooling2D((2, 2)))\n",
        "model.add(Conv2D(128, (3, 3), activation='relu'))\n",
        "model.add(Flatten())\n",
        "model.add(Dense(128, activation='relu'))\n",
        "model.add(Dense(10, activation='softmax'))\n",
        "\n",
        "model.compile(optimizer='adam',\n",
        "              loss='categorical_crossentropy',\n",
        "              metrics=['accuracy'])\n"
      ],
      "metadata": {
        "id": "dBFBJ5qRtuil"
      },
      "execution_count": null,
      "outputs": []
    },
    {
      "cell_type": "code",
      "source": [
        "history = model.fit(train_images, train_labels, epochs=10, batch_size=64, validation_data=(test_images, test_labels))"
      ],
      "metadata": {
        "colab": {
          "base_uri": "https://localhost:8080/"
        },
        "id": "TmTK6QgKtxl8",
        "outputId": "a031ae42-237f-4d36-ab73-34ef242bec96"
      },
      "execution_count": null,
      "outputs": [
        {
          "output_type": "stream",
          "name": "stdout",
          "text": [
            "Epoch 1/10\n",
            "938/938 [==============================] - 71s 74ms/step - loss: 0.5010 - accuracy: 0.8178 - val_loss: 0.3746 - val_accuracy: 0.8622\n",
            "Epoch 2/10\n",
            "938/938 [==============================] - 69s 73ms/step - loss: 0.3206 - accuracy: 0.8841 - val_loss: 0.3153 - val_accuracy: 0.8841\n",
            "Epoch 3/10\n",
            "938/938 [==============================] - 70s 75ms/step - loss: 0.2776 - accuracy: 0.8989 - val_loss: 0.3045 - val_accuracy: 0.8887\n",
            "Epoch 4/10\n",
            "938/938 [==============================] - 69s 74ms/step - loss: 0.2426 - accuracy: 0.9101 - val_loss: 0.2887 - val_accuracy: 0.8988\n",
            "Epoch 5/10\n",
            "938/938 [==============================] - 79s 84ms/step - loss: 0.2187 - accuracy: 0.9185 - val_loss: 0.2582 - val_accuracy: 0.9076\n",
            "Epoch 6/10\n",
            "938/938 [==============================] - 69s 74ms/step - loss: 0.1954 - accuracy: 0.9275 - val_loss: 0.2806 - val_accuracy: 0.9004\n",
            "Epoch 7/10\n",
            "938/938 [==============================] - 71s 76ms/step - loss: 0.1758 - accuracy: 0.9350 - val_loss: 0.2631 - val_accuracy: 0.9068\n",
            "Epoch 8/10\n",
            "938/938 [==============================] - 69s 74ms/step - loss: 0.1571 - accuracy: 0.9413 - val_loss: 0.2574 - val_accuracy: 0.9113\n",
            "Epoch 9/10\n",
            "938/938 [==============================] - 68s 73ms/step - loss: 0.1404 - accuracy: 0.9474 - val_loss: 0.2821 - val_accuracy: 0.9104\n",
            "Epoch 10/10\n",
            "938/938 [==============================] - 70s 74ms/step - loss: 0.1255 - accuracy: 0.9525 - val_loss: 0.2998 - val_accuracy: 0.9034\n"
          ]
        }
      ]
    },
    {
      "cell_type": "code",
      "source": [
        "test_loss, test_acc = model.evaluate(test_images, test_labels)"
      ],
      "metadata": {
        "colab": {
          "base_uri": "https://localhost:8080/"
        },
        "id": "rM87UKCht0Fg",
        "outputId": "6bca9df2-cc42-445f-96c0-ac2421963705"
      },
      "execution_count": null,
      "outputs": [
        {
          "output_type": "stream",
          "name": "stdout",
          "text": [
            "313/313 [==============================] - 3s 10ms/step - loss: 0.2725 - accuracy: 0.9109\n"
          ]
        }
      ]
    },
    {
      "cell_type": "code",
      "source": [
        "print('Test loss:', test_loss)\n",
        "print('Test accuracy:', test_acc)"
      ],
      "metadata": {
        "colab": {
          "base_uri": "https://localhost:8080/"
        },
        "id": "qKLIHqADwglZ",
        "outputId": "438817bd-214d-4468-bcb7-2a610db374d1"
      },
      "execution_count": null,
      "outputs": [
        {
          "output_type": "stream",
          "name": "stdout",
          "text": [
            "Test loss: 0.2724623680114746\n",
            "Test accuracy: 0.9108999967575073\n"
          ]
        }
      ]
    },
    {
      "cell_type": "code",
      "source": [
        "history = model.fit(train_images, train_labels, epochs=20, batch_size=64, validation_data=(test_images, test_labels))"
      ],
      "metadata": {
        "colab": {
          "base_uri": "https://localhost:8080/"
        },
        "id": "v3kIMnqcbNgJ",
        "outputId": "ac56ce2f-4e7d-427a-813b-553f0c7dc358"
      },
      "execution_count": null,
      "outputs": [
        {
          "output_type": "stream",
          "name": "stdout",
          "text": [
            "Epoch 1/20\n",
            "938/938 [==============================] - 69s 73ms/step - loss: 0.1093 - accuracy: 0.9595 - val_loss: 0.2947 - val_accuracy: 0.9120\n",
            "Epoch 2/20\n",
            "938/938 [==============================] - 68s 72ms/step - loss: 0.1002 - accuracy: 0.9621 - val_loss: 0.3242 - val_accuracy: 0.9021\n",
            "Epoch 3/20\n",
            "938/938 [==============================] - 68s 73ms/step - loss: 0.0869 - accuracy: 0.9674 - val_loss: 0.3473 - val_accuracy: 0.9139\n",
            "Epoch 4/20\n",
            "938/938 [==============================] - 67s 72ms/step - loss: 0.0818 - accuracy: 0.9683 - val_loss: 0.3256 - val_accuracy: 0.9129\n",
            "Epoch 5/20\n",
            "938/938 [==============================] - 70s 75ms/step - loss: 0.0711 - accuracy: 0.9729 - val_loss: 0.3570 - val_accuracy: 0.9056\n",
            "Epoch 6/20\n",
            "938/938 [==============================] - 69s 74ms/step - loss: 0.0667 - accuracy: 0.9754 - val_loss: 0.3548 - val_accuracy: 0.9109\n",
            "Epoch 7/20\n",
            "938/938 [==============================] - 67s 72ms/step - loss: 0.0565 - accuracy: 0.9788 - val_loss: 0.3801 - val_accuracy: 0.9138\n",
            "Epoch 8/20\n",
            "938/938 [==============================] - 67s 72ms/step - loss: 0.0546 - accuracy: 0.9795 - val_loss: 0.4172 - val_accuracy: 0.9083\n",
            "Epoch 9/20\n",
            "938/938 [==============================] - 72s 77ms/step - loss: 0.0495 - accuracy: 0.9807 - val_loss: 0.4602 - val_accuracy: 0.9073\n",
            "Epoch 10/20\n",
            "938/938 [==============================] - 67s 72ms/step - loss: 0.0465 - accuracy: 0.9826 - val_loss: 0.4634 - val_accuracy: 0.9060\n",
            "Epoch 11/20\n",
            "938/938 [==============================] - 70s 75ms/step - loss: 0.0440 - accuracy: 0.9837 - val_loss: 0.4583 - val_accuracy: 0.9089\n",
            "Epoch 12/20\n",
            "938/938 [==============================] - 70s 75ms/step - loss: 0.0403 - accuracy: 0.9845 - val_loss: 0.4983 - val_accuracy: 0.8987\n",
            "Epoch 13/20\n",
            "938/938 [==============================] - 69s 73ms/step - loss: 0.0386 - accuracy: 0.9856 - val_loss: 0.5095 - val_accuracy: 0.9104\n",
            "Epoch 14/20\n",
            "938/938 [==============================] - 67s 72ms/step - loss: 0.0350 - accuracy: 0.9869 - val_loss: 0.5432 - val_accuracy: 0.9094\n",
            "Epoch 15/20\n",
            "938/938 [==============================] - 71s 76ms/step - loss: 0.0353 - accuracy: 0.9868 - val_loss: 0.5676 - val_accuracy: 0.8999\n",
            "Epoch 16/20\n",
            "938/938 [==============================] - 69s 73ms/step - loss: 0.0325 - accuracy: 0.9880 - val_loss: 0.6053 - val_accuracy: 0.9040\n",
            "Epoch 17/20\n",
            "938/938 [==============================] - 69s 74ms/step - loss: 0.0314 - accuracy: 0.9888 - val_loss: 0.6063 - val_accuracy: 0.9108\n",
            "Epoch 18/20\n",
            "938/938 [==============================] - 69s 74ms/step - loss: 0.0323 - accuracy: 0.9882 - val_loss: 0.6623 - val_accuracy: 0.9067\n",
            "Epoch 19/20\n",
            "938/938 [==============================] - 70s 75ms/step - loss: 0.0295 - accuracy: 0.9895 - val_loss: 0.5924 - val_accuracy: 0.9081\n",
            "Epoch 20/20\n",
            "938/938 [==============================] - 67s 72ms/step - loss: 0.0257 - accuracy: 0.9906 - val_loss: 0.5901 - val_accuracy: 0.9117\n"
          ]
        }
      ]
    },
    {
      "cell_type": "code",
      "source": [
        "test_loss, test_acc = model.evaluate(test_images, test_labels)\n",
        "print('Test loss:', test_loss)\n",
        "print('Test accuracy:', test_acc)"
      ],
      "metadata": {
        "colab": {
          "base_uri": "https://localhost:8080/"
        },
        "id": "HT70t7a7bNtQ",
        "outputId": "f5207da0-f192-4898-f642-5f1bab6f6492"
      },
      "execution_count": null,
      "outputs": [
        {
          "output_type": "stream",
          "name": "stdout",
          "text": [
            "313/313 [==============================] - 3s 10ms/step - loss: 0.5901 - accuracy: 0.9117\n",
            "Test loss: 0.5901076197624207\n",
            "Test accuracy: 0.9117000102996826\n"
          ]
        }
      ]
    },
    {
      "cell_type": "markdown",
      "source": [
        "**ВИСНОВКИ**\n",
        "збільшення кількості епох не призвело до більш прогнозованих відповідей, але призвело до збільшення функції втрат, та перенавчанння моделі.\n",
        "\n",
        "Судячи з даних, у даному випадку достатньо і 5-6 епох"
      ],
      "metadata": {
        "id": "1BMds4WrkhFp"
      }
    },
    {
      "cell_type": "code",
      "source": [
        "history = model.fit(train_images, train_labels, epochs=10, batch_size=32, validation_data=(test_images, test_labels))"
      ],
      "metadata": {
        "colab": {
          "base_uri": "https://localhost:8080/"
        },
        "id": "O61EMciFmSOp",
        "outputId": "35fd74df-be40-4205-f6ca-267505b95b8a"
      },
      "execution_count": null,
      "outputs": [
        {
          "output_type": "stream",
          "name": "stdout",
          "text": [
            "Epoch 1/10\n",
            "1875/1875 [==============================] - 78s 41ms/step - loss: 0.0711 - accuracy: 0.9753 - val_loss: 0.5371 - val_accuracy: 0.9069\n",
            "Epoch 2/10\n",
            "1875/1875 [==============================] - 80s 42ms/step - loss: 0.0496 - accuracy: 0.9828 - val_loss: 0.6121 - val_accuracy: 0.9066\n",
            "Epoch 3/10\n",
            "1875/1875 [==============================] - 74s 40ms/step - loss: 0.0492 - accuracy: 0.9823 - val_loss: 0.5852 - val_accuracy: 0.9053\n",
            "Epoch 4/10\n",
            "1875/1875 [==============================] - 74s 39ms/step - loss: 0.0460 - accuracy: 0.9838 - val_loss: 0.6109 - val_accuracy: 0.9037\n",
            "Epoch 5/10\n",
            "1875/1875 [==============================] - 78s 42ms/step - loss: 0.0481 - accuracy: 0.9829 - val_loss: 0.5840 - val_accuracy: 0.9040\n",
            "Epoch 6/10\n",
            "1875/1875 [==============================] - 77s 41ms/step - loss: 0.0433 - accuracy: 0.9852 - val_loss: 0.5866 - val_accuracy: 0.9009\n",
            "Epoch 7/10\n",
            "1875/1875 [==============================] - 76s 41ms/step - loss: 0.0439 - accuracy: 0.9845 - val_loss: 0.6531 - val_accuracy: 0.9026\n",
            "Epoch 8/10\n",
            "1875/1875 [==============================] - 74s 40ms/step - loss: 0.0444 - accuracy: 0.9846 - val_loss: 0.6233 - val_accuracy: 0.9053\n",
            "Epoch 9/10\n",
            "1875/1875 [==============================] - 74s 40ms/step - loss: 0.0409 - accuracy: 0.9863 - val_loss: 0.6510 - val_accuracy: 0.9109\n",
            "Epoch 10/10\n",
            "1875/1875 [==============================] - 78s 41ms/step - loss: 0.0395 - accuracy: 0.9862 - val_loss: 0.6585 - val_accuracy: 0.9060\n"
          ]
        }
      ]
    },
    {
      "cell_type": "code",
      "source": [
        "test_loss, test_acc = model.evaluate(test_images, test_labels)\n",
        "print('Test loss:', test_loss)\n",
        "print('Test accuracy:', test_acc)"
      ],
      "metadata": {
        "colab": {
          "base_uri": "https://localhost:8080/"
        },
        "id": "rIy6INlYmZU6",
        "outputId": "860fdaff-4bf0-4da5-ec60-c4620773e044"
      },
      "execution_count": null,
      "outputs": [
        {
          "output_type": "stream",
          "name": "stdout",
          "text": [
            "313/313 [==============================] - 5s 15ms/step - loss: 0.6585 - accuracy: 0.9060\n",
            "Test loss: 0.6584992408752441\n",
            "Test accuracy: 0.906000018119812\n"
          ]
        }
      ]
    },
    {
      "cell_type": "code",
      "source": [
        "history = model.fit(train_images, train_labels, epochs=10, batch_size=128, validation_data=(test_images, test_labels))"
      ],
      "metadata": {
        "colab": {
          "base_uri": "https://localhost:8080/"
        },
        "id": "e7tpLApPpmzn",
        "outputId": "d1a8d9ed-41fc-4b06-c363-ff4b851eb262"
      },
      "execution_count": null,
      "outputs": [
        {
          "output_type": "stream",
          "name": "stdout",
          "text": [
            "Epoch 1/10\n",
            "469/469 [==============================] - 66s 141ms/step - loss: 0.0094 - accuracy: 0.9971 - val_loss: 0.6653 - val_accuracy: 0.9171\n",
            "Epoch 2/10\n",
            "469/469 [==============================] - 63s 135ms/step - loss: 0.0019 - accuracy: 0.9997 - val_loss: 0.7056 - val_accuracy: 0.9175\n",
            "Epoch 3/10\n",
            "469/469 [==============================] - 64s 136ms/step - loss: 8.7536e-04 - accuracy: 1.0000 - val_loss: 0.7361 - val_accuracy: 0.9179\n",
            "Epoch 4/10\n",
            "469/469 [==============================] - 62s 131ms/step - loss: 5.6330e-04 - accuracy: 1.0000 - val_loss: 0.7695 - val_accuracy: 0.9180\n",
            "Epoch 5/10\n",
            "469/469 [==============================] - 62s 132ms/step - loss: 3.9709e-04 - accuracy: 1.0000 - val_loss: 0.7910 - val_accuracy: 0.9183\n",
            "Epoch 6/10\n",
            "469/469 [==============================] - 65s 139ms/step - loss: 2.8359e-04 - accuracy: 1.0000 - val_loss: 0.8178 - val_accuracy: 0.9185\n",
            "Epoch 7/10\n",
            "469/469 [==============================] - 62s 133ms/step - loss: 1.9992e-04 - accuracy: 1.0000 - val_loss: 0.8385 - val_accuracy: 0.9191\n",
            "Epoch 8/10\n",
            "469/469 [==============================] - 65s 138ms/step - loss: 1.5517e-04 - accuracy: 1.0000 - val_loss: 0.8621 - val_accuracy: 0.9191\n",
            "Epoch 9/10\n",
            "469/469 [==============================] - 61s 129ms/step - loss: 1.1781e-04 - accuracy: 1.0000 - val_loss: 0.8814 - val_accuracy: 0.9185\n",
            "Epoch 10/10\n",
            "469/469 [==============================] - 62s 133ms/step - loss: 8.8630e-05 - accuracy: 1.0000 - val_loss: 0.9055 - val_accuracy: 0.9189\n"
          ]
        }
      ]
    },
    {
      "cell_type": "code",
      "source": [
        "test_loss, test_acc = model.evaluate(test_images, test_labels)\n",
        "print('Test loss:', test_loss)\n",
        "print('Test accuracy:', test_acc)"
      ],
      "metadata": {
        "colab": {
          "base_uri": "https://localhost:8080/"
        },
        "id": "a-6hTowGppCD",
        "outputId": "8ea7ba03-3af2-432e-decb-8f03ff634261"
      },
      "execution_count": null,
      "outputs": [
        {
          "output_type": "stream",
          "name": "stdout",
          "text": [
            "313/313 [==============================] - 3s 10ms/step - loss: 0.9055 - accuracy: 0.9189\n",
            "Test loss: 0.9055320024490356\n",
            "Test accuracy: 0.9189000129699707\n"
          ]
        }
      ]
    },
    {
      "cell_type": "code",
      "source": [
        "history = model.fit(train_images, train_labels, epochs=10, batch_size=16, validation_data=(test_images, test_labels))"
      ],
      "metadata": {
        "colab": {
          "base_uri": "https://localhost:8080/"
        },
        "id": "xu3IGvhS1NO2",
        "outputId": "f5c8903c-af59-4507-8ee4-00e6acc308ad"
      },
      "execution_count": null,
      "outputs": [
        {
          "output_type": "stream",
          "name": "stdout",
          "text": [
            "Epoch 1/10\n",
            "3750/3750 [==============================] - 93s 25ms/step - loss: 0.1201 - accuracy: 0.9615 - val_loss: 0.4993 - val_accuracy: 0.9001\n",
            "Epoch 2/10\n",
            "3750/3750 [==============================] - 89s 24ms/step - loss: 0.0693 - accuracy: 0.9758 - val_loss: 0.6604 - val_accuracy: 0.9046\n",
            "Epoch 3/10\n",
            "3750/3750 [==============================] - 88s 24ms/step - loss: 0.0732 - accuracy: 0.9750 - val_loss: 0.5314 - val_accuracy: 0.9040\n",
            "Epoch 4/10\n",
            "3750/3750 [==============================] - 90s 24ms/step - loss: 0.0653 - accuracy: 0.9776 - val_loss: 0.5773 - val_accuracy: 0.9060\n",
            "Epoch 5/10\n",
            "3750/3750 [==============================] - 89s 24ms/step - loss: 0.0626 - accuracy: 0.9784 - val_loss: 0.6315 - val_accuracy: 0.8970\n",
            "Epoch 6/10\n",
            "3750/3750 [==============================] - 91s 24ms/step - loss: 0.0604 - accuracy: 0.9801 - val_loss: 0.6033 - val_accuracy: 0.9033\n",
            "Epoch 7/10\n",
            "3750/3750 [==============================] - 87s 23ms/step - loss: 0.0574 - accuracy: 0.9802 - val_loss: 0.5795 - val_accuracy: 0.9030\n",
            "Epoch 8/10\n",
            "3750/3750 [==============================] - 91s 24ms/step - loss: 0.0529 - accuracy: 0.9818 - val_loss: 0.6619 - val_accuracy: 0.9058\n",
            "Epoch 9/10\n",
            "3750/3750 [==============================] - 88s 23ms/step - loss: 0.0542 - accuracy: 0.9819 - val_loss: 0.7561 - val_accuracy: 0.9046\n",
            "Epoch 10/10\n",
            "3750/3750 [==============================] - 91s 24ms/step - loss: 0.0535 - accuracy: 0.9826 - val_loss: 0.7124 - val_accuracy: 0.9068\n"
          ]
        }
      ]
    },
    {
      "cell_type": "code",
      "source": [
        "test_loss, test_acc = model.evaluate(test_images, test_labels)\n",
        "print('Test loss:', test_loss)\n",
        "print('Test accuracy:', test_acc)"
      ],
      "metadata": {
        "colab": {
          "base_uri": "https://localhost:8080/"
        },
        "id": "sxUkmd6mF8pQ",
        "outputId": "d88144ac-bc2d-402b-cfa1-bd14d3d12d1d"
      },
      "execution_count": null,
      "outputs": [
        {
          "output_type": "stream",
          "name": "stdout",
          "text": [
            "313/313 [==============================] - 4s 12ms/step - loss: 0.7124 - accuracy: 0.9068\n",
            "Test loss: 0.7123662233352661\n",
            "Test accuracy: 0.9067999720573425\n"
          ]
        }
      ]
    },
    {
      "cell_type": "code",
      "source": [
        "model2 = Sequential()\n",
        "\n",
        "model2.add(Conv2D(32, (3, 3), activation='sigmoid', input_shape=(28, 28, 1)))\n",
        "model2.add(MaxPooling2D((2, 2)))\n",
        "model2.add(Conv2D(64, (3, 3), activation='sigmoid'))\n",
        "model2.add(MaxPooling2D((2, 2)))\n",
        "model2.add(Conv2D(128, (3, 3), activation='sigmoid'))\n",
        "model2.add(Flatten())\n",
        "model2.add(Dense(128, activation='sigmoid'))\n",
        "model2.add(Dense(10, activation='softmax'))\n",
        "\n",
        "model2.compile(optimizer='adam',\n",
        "              loss='categorical_crossentropy',\n",
        "              metrics=['accuracy'])"
      ],
      "metadata": {
        "id": "uHj-q-NwGGWx"
      },
      "execution_count": null,
      "outputs": []
    },
    {
      "cell_type": "code",
      "source": [
        "history = model2.fit(train_images, train_labels, epochs=10, batch_size=64, validation_data=(test_images, test_labels))"
      ],
      "metadata": {
        "colab": {
          "base_uri": "https://localhost:8080/"
        },
        "id": "SA-6DcnTGjMS",
        "outputId": "1d47ea11-137e-4a0c-90cc-29c45ca6f9bb"
      },
      "execution_count": null,
      "outputs": [
        {
          "output_type": "stream",
          "name": "stdout",
          "text": [
            "Epoch 1/10\n",
            "938/938 [==============================] - 79s 83ms/step - loss: 1.0769 - accuracy: 0.5966 - val_loss: 0.6521 - val_accuracy: 0.7494\n",
            "Epoch 2/10\n",
            "938/938 [==============================] - 73s 78ms/step - loss: 0.5743 - accuracy: 0.7839 - val_loss: 0.5547 - val_accuracy: 0.7930\n",
            "Epoch 3/10\n",
            "938/938 [==============================] - 74s 79ms/step - loss: 0.4835 - accuracy: 0.8181 - val_loss: 0.4872 - val_accuracy: 0.8206\n",
            "Epoch 4/10\n",
            "938/938 [==============================] - 71s 76ms/step - loss: 0.4279 - accuracy: 0.8394 - val_loss: 0.4265 - val_accuracy: 0.8436\n",
            "Epoch 5/10\n",
            "938/938 [==============================] - 71s 76ms/step - loss: 0.3904 - accuracy: 0.8539 - val_loss: 0.4051 - val_accuracy: 0.8491\n",
            "Epoch 6/10\n",
            "938/938 [==============================] - 72s 76ms/step - loss: 0.3647 - accuracy: 0.8635 - val_loss: 0.3879 - val_accuracy: 0.8541\n",
            "Epoch 7/10\n",
            "938/938 [==============================] - 75s 80ms/step - loss: 0.3436 - accuracy: 0.8719 - val_loss: 0.3815 - val_accuracy: 0.8597\n",
            "Epoch 8/10\n",
            "938/938 [==============================] - 70s 75ms/step - loss: 0.3285 - accuracy: 0.8773 - val_loss: 0.3716 - val_accuracy: 0.8612\n",
            "Epoch 9/10\n",
            "938/938 [==============================] - 73s 77ms/step - loss: 0.3129 - accuracy: 0.8831 - val_loss: 0.3548 - val_accuracy: 0.8700\n",
            "Epoch 10/10\n",
            "938/938 [==============================] - 75s 80ms/step - loss: 0.3009 - accuracy: 0.8878 - val_loss: 0.3370 - val_accuracy: 0.8733\n"
          ]
        }
      ]
    },
    {
      "cell_type": "code",
      "source": [
        "test_loss, test_acc = model2.evaluate(test_images, test_labels)\n",
        "print('Test loss:', test_loss)\n",
        "print('Test accuracy:', test_acc)"
      ],
      "metadata": {
        "colab": {
          "base_uri": "https://localhost:8080/"
        },
        "id": "XwBXU15NGwfx",
        "outputId": "5f07fdf3-20b3-4817-fcfb-8cad3d58bdc8"
      },
      "execution_count": null,
      "outputs": [
        {
          "output_type": "stream",
          "name": "stdout",
          "text": [
            "313/313 [==============================] - 5s 15ms/step - loss: 0.3370 - accuracy: 0.8733\n",
            "Test loss: 0.33703458309173584\n",
            "Test accuracy: 0.8733000159263611\n"
          ]
        }
      ]
    },
    {
      "cell_type": "markdown",
      "source": [
        "**ПІДСУМКИ**\n",
        "\n",
        "При побудові моделі були виявлені наступні дані:\n",
        "1 оптимальна функція це relu, а не sigmoid. Якість передбачень більша на 4%, при всих інших однакових параметрах\n",
        "\n",
        "2 збільшення кількість епох призводтиь до перенавчання моделі. Ідеальна кількість 10\n",
        "\n",
        "3 Розмір порції даних (batch) 64, більший розмір порції даних призводить до перенавчання моделі, але при валідації при той самій прогнозованності 0,9 збільшує значення функції втрат"
      ],
      "metadata": {
        "id": "3QKTL7wnL8eQ"
      }
    }
  ]
}