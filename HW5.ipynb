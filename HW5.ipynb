{
  "nbformat": 4,
  "nbformat_minor": 0,
  "metadata": {
    "colab": {
      "provenance": [],
      "authorship_tag": "ABX9TyOUsOCWB6wJtOSGd5eOC6cA",
      "include_colab_link": true
    },
    "kernelspec": {
      "name": "python3",
      "display_name": "Python 3"
    },
    "language_info": {
      "name": "python"
    }
  },
  "cells": [
    {
      "cell_type": "markdown",
      "metadata": {
        "id": "view-in-github",
        "colab_type": "text"
      },
      "source": [
        "<a href=\"https://colab.research.google.com/github/VadymBoyko/DS-HW01/blob/main/HW5.ipynb\" target=\"_parent\"><img src=\"https://colab.research.google.com/assets/colab-badge.svg\" alt=\"Open In Colab\"/></a>"
      ]
    },
    {
      "cell_type": "code",
      "source": [
        "import os\n",
        "import zipfile\n",
        "import numpy as np\n",
        "import pandas as pd\n",
        "from scipy.stats import skew, kurtosis, entropy\n",
        "from sklearn.model_selection import train_test_split\n",
        "from sklearn.svm import SVC\n",
        "from sklearn.ensemble import RandomForestClassifier\n",
        "from sklearn.model_selection import GridSearchCV\n",
        "from sklearn.metrics import f1_score"
      ],
      "metadata": {
        "id": "vIkNd6IiVmw4"
      },
      "execution_count": 110,
      "outputs": []
    },
    {
      "cell_type": "code",
      "execution_count": 69,
      "metadata": {
        "id": "Q-UkdZSeVAEr"
      },
      "outputs": [],
      "source": [
        "zip_ref = zipfile.ZipFile('homework.zip', 'r')\n",
        "zip_ref.extractall('')"
      ]
    },
    {
      "cell_type": "code",
      "source": [
        "# формуємо фрейми з різними видами діяльності\n",
        "def load_raw_data(folder_path):\n",
        "    df_raw_data = pd.DataFrame()\n",
        "    file_list = os.listdir(folder_path)\n",
        "    for file_index, file_name in enumerate(file_list):\n",
        "        if file_name.endswith('.csv'):\n",
        "            file_path = os.path.join(folder_path, file_name)\n",
        "            df = pd.read_csv(file_path)\n",
        "            df['File_Index'] = file_index\n",
        "            df_raw_data = pd.concat([df_raw_data, df], ignore_index=True)\n",
        "    return df_raw_data\n",
        "\n",
        "df_raw_idle = load_raw_data('/content/data/idle/')\n",
        "df_raw_running = load_raw_data('/content/data/running/')\n",
        "df_raw_stairs = load_raw_data('/content/data/stairs/')\n",
        "df_raw_walking = load_raw_data('/content/data/walking/')"
      ],
      "metadata": {
        "id": "tR7g7pmdXN3e"
      },
      "execution_count": 70,
      "outputs": []
    },
    {
      "cell_type": "code",
      "source": [
        "# розрахування фічів для фреймів\n",
        "df_idle_features = pd.DataFrame()\n",
        "df_running_features = pd.DataFrame()\n",
        "df_stairs_features = pd.DataFrame()\n",
        "df_walking_features = pd.DataFrame()\n",
        "\n",
        "def calculate_features(group):\n",
        "    features = {}\n",
        "    features['mean_X'] = group['accelerometer_X'].mean()\n",
        "    features['mean_Y'] = group['accelerometer_Y'].mean()\n",
        "    features['mean_Z'] = group['accelerometer_Z'].mean()\n",
        "    features['var_X'] = group['accelerometer_X'].var()\n",
        "    features['var_Y'] = group['accelerometer_Y'].var()\n",
        "    features['var_Z'] = group['accelerometer_Z'].var()\n",
        "    features['std_X'] = group['accelerometer_X'].std()\n",
        "    features['std_Y'] = group['accelerometer_Y'].std()\n",
        "    features['std_Z'] = group['accelerometer_Z'].std()\n",
        "    features['median_X'] = group['accelerometer_X'].median()\n",
        "    features['median_Y'] = group['accelerometer_Y'].median()\n",
        "    features['median_Z'] = group['accelerometer_Z'].median()\n",
        "    features['max_X'] = group['accelerometer_X'].max()\n",
        "    features['max_Y'] = group['accelerometer_Y'].max()\n",
        "    features['max_Z'] = group['accelerometer_Z'].max()\n",
        "    features['min_X'] = group['accelerometer_X'].min()\n",
        "    features['min_Y'] = group['accelerometer_Y'].min()\n",
        "    features['min_Z'] = group['accelerometer_Z'].min()\n",
        "    #features['entropy_X'] = entropy(group['accelerometer_X'])\n",
        "    #features['entropy_Y'] = entropy(group['accelerometer_Y'])\n",
        "    #features['entropy_Z'] = entropy(group['accelerometer_Z'])\n",
        "    features['skew_X'] = skew(group['accelerometer_X'])\n",
        "    features['skew_Y'] = skew(group['accelerometer_Y'])\n",
        "    features['skew_Z'] = skew(group['accelerometer_Z'])\n",
        "    features['kurt_X'] = kurtosis(group['accelerometer_X'])\n",
        "    features['kurt_Y'] = kurtosis(group['accelerometer_Y'])\n",
        "    features['kurt_Z'] = kurtosis(group['accelerometer_Z'])\n",
        "    features['iqr_X'] = group['accelerometer_X'].quantile(0.75) - group['accelerometer_X'].quantile(0.25)\n",
        "    features['iqr_Y'] = group['accelerometer_Y'].quantile(0.75) - group['accelerometer_Y'].quantile(0.25)\n",
        "    features['iqr_Z'] = group['accelerometer_Z'].quantile(0.75) - group['accelerometer_Z'].quantile(0.25)\n",
        "    features['mad_X'] = np.mean(np.abs(group['accelerometer_X'] - group['accelerometer_X'].mean()))\n",
        "    features['mad_Y'] = np.mean(np.abs(group['accelerometer_Y'] - group['accelerometer_Y'].mean()))\n",
        "    features['mad_Z'] = np.mean(np.abs(group['accelerometer_Z'] - group['accelerometer_Z'].mean()))\n",
        "    features['corr_XY'] = group['accelerometer_X'].corr(group['accelerometer_Y'])\n",
        "    features['corr_XZ'] = group['accelerometer_X'].corr(group['accelerometer_Z'])\n",
        "    features['corr_YZ'] = group['accelerometer_Y'].corr(group['accelerometer_Z'])\n",
        "    return pd.Series(features)\n",
        "\n",
        "# Розрахунок ознак для кожного значення File_Index\n",
        "df_running_features = df_raw_running.groupby('File_Index').apply(calculate_features)\n",
        "df_running_features['activity_type'] = 0\n",
        "df_stairs_features = df_raw_stairs.groupby('File_Index').apply(calculate_features)\n",
        "df_stairs_features['activity_type'] = 1\n",
        "df_walking_features = df_raw_walking.groupby('File_Index').apply(calculate_features)\n",
        "df_walking_features['activity_type'] = 2\n",
        "df_idle_features = df_raw_idle.groupby('File_Index').apply(calculate_features)\n",
        "df_idle_features['activity_type'] = 3"
      ],
      "metadata": {
        "id": "WY7-Zzkfc0Oi"
      },
      "execution_count": 89,
      "outputs": []
    },
    {
      "cell_type": "code",
      "source": [
        "df = pd.concat([df_running_features, df_stairs_features, df_walking_features, df_idle_features]).reset_index(drop=True)"
      ],
      "metadata": {
        "id": "jATP33uAdb8X"
      },
      "execution_count": 90,
      "outputs": []
    },
    {
      "cell_type": "code",
      "source": [
        "X = np.array(df.iloc[:,0:-1])\n",
        "y = np.array(df.iloc[:,-1])"
      ],
      "metadata": {
        "id": "qynnMWPTanoo"
      },
      "execution_count": 91,
      "outputs": []
    },
    {
      "cell_type": "code",
      "source": [
        "X_train, X_test, y_train, y_test = train_test_split(X, y, test_size=0.2, random_state=42, shuffle=True, stratify=y)"
      ],
      "metadata": {
        "id": "XOWjzluwaqXg"
      },
      "execution_count": 92,
      "outputs": []
    },
    {
      "cell_type": "markdown",
      "source": [
        "**SVM**"
      ],
      "metadata": {
        "id": "HtfDcHyZb-ev"
      }
    },
    {
      "cell_type": "code",
      "source": [
        "svm_model = SVC()\n",
        "svm_model.fit(X_train, y_train)\n",
        "svm_accuracy = svm_model.score(X_test, y_test)"
      ],
      "metadata": {
        "id": "pcUYPySccA7k"
      },
      "execution_count": 93,
      "outputs": []
    },
    {
      "cell_type": "markdown",
      "source": [
        "**Random Forest**"
      ],
      "metadata": {
        "id": "48k37a5ncn8C"
      }
    },
    {
      "cell_type": "code",
      "source": [
        "rf_model = RandomForestClassifier()\n",
        "rf_model.fit(X_train, y_train)\n",
        "rf_accuracy = rf_model.score(X_test, y_test)"
      ],
      "metadata": {
        "id": "YcrK3JmMcpHE"
      },
      "execution_count": 94,
      "outputs": []
    },
    {
      "cell_type": "markdown",
      "source": [
        "**Перевірка**"
      ],
      "metadata": {
        "id": "2fvL0tYOkvk1"
      }
    },
    {
      "cell_type": "code",
      "source": [
        "print(\"SVM Accuracy:\", svm_accuracy)\n",
        "print(\"Random Forest Accuracy:\", rf_accuracy)"
      ],
      "metadata": {
        "colab": {
          "base_uri": "https://localhost:8080/"
        },
        "id": "6Q9JSXUwc211",
        "outputId": "6a3b0943-6cfb-4584-c23c-c4be22bd7106"
      },
      "execution_count": 95,
      "outputs": [
        {
          "output_type": "stream",
          "name": "stdout",
          "text": [
            "SVM Accuracy: 0.974477958236659\n",
            "Random Forest Accuracy: 0.9992266047950503\n"
          ]
        }
      ]
    },
    {
      "cell_type": "markdown",
      "source": [
        "на підставі даних навчання та перевірки відправцювання моделі, можна зробити висновок, що метод Random Forest показав кращі показники прогнозування/класифікації вида активності"
      ],
      "metadata": {
        "id": "SeLdQ1Jow01a"
      }
    },
    {
      "cell_type": "markdown",
      "source": [
        "**намагаємось покращити результати**"
      ],
      "metadata": {
        "id": "QzlgQ52E3V7L"
      }
    },
    {
      "cell_type": "code",
      "source": [
        "C = 4\n",
        "svc_rbf = SVC(\n",
        "    kernel=\"rbf\",\n",
        "    C=C,\n",
        "    decision_function_shape='ovr',\n",
        "    probability=True,\n",
        "    gamma=0.05,\n",
        "    cache_size=500).fit(X_train, y_train)\n",
        "\n",
        "params = {\n",
        "    \"C\": [0.01, 1, 10, 20.],\n",
        "    \"gamma\": [0.01, 0.05, 0.2, 0.4,],\n",
        "}\n",
        "\n",
        "svc_opt=GridSearchCV(svc_rbf, params, scoring='accuracy', cv=5, verbose=True).fit(X_train, y_train)\n",
        "svc_opt.best_params_"
      ],
      "metadata": {
        "colab": {
          "base_uri": "https://localhost:8080/"
        },
        "id": "U7e14esVyPAi",
        "outputId": "86b5c7b7-7670-4de7-de97-0236dd37a2b5"
      },
      "execution_count": 101,
      "outputs": [
        {
          "output_type": "stream",
          "name": "stdout",
          "text": [
            "Fitting 5 folds for each of 16 candidates, totalling 80 fits\n"
          ]
        },
        {
          "output_type": "execute_result",
          "data": {
            "text/plain": [
              "{'C': 10, 'gamma': 0.01}"
            ]
          },
          "metadata": {},
          "execution_count": 101
        }
      ]
    },
    {
      "cell_type": "code",
      "source": [
        "svc_best = SVC(kernel='rbf', C=10, gamma=0.01)\n",
        "svc_best.fit(X_train, y_train)"
      ],
      "metadata": {
        "colab": {
          "base_uri": "https://localhost:8080/",
          "height": 75
        },
        "id": "mqvRzkdA3eJC",
        "outputId": "65db2aeb-cb8c-48cf-a32d-ed4df7e09db7"
      },
      "execution_count": 102,
      "outputs": [
        {
          "output_type": "execute_result",
          "data": {
            "text/plain": [
              "SVC(C=10, gamma=0.01)"
            ],
            "text/html": [
              "<style>#sk-container-id-1 {color: black;background-color: white;}#sk-container-id-1 pre{padding: 0;}#sk-container-id-1 div.sk-toggleable {background-color: white;}#sk-container-id-1 label.sk-toggleable__label {cursor: pointer;display: block;width: 100%;margin-bottom: 0;padding: 0.3em;box-sizing: border-box;text-align: center;}#sk-container-id-1 label.sk-toggleable__label-arrow:before {content: \"▸\";float: left;margin-right: 0.25em;color: #696969;}#sk-container-id-1 label.sk-toggleable__label-arrow:hover:before {color: black;}#sk-container-id-1 div.sk-estimator:hover label.sk-toggleable__label-arrow:before {color: black;}#sk-container-id-1 div.sk-toggleable__content {max-height: 0;max-width: 0;overflow: hidden;text-align: left;background-color: #f0f8ff;}#sk-container-id-1 div.sk-toggleable__content pre {margin: 0.2em;color: black;border-radius: 0.25em;background-color: #f0f8ff;}#sk-container-id-1 input.sk-toggleable__control:checked~div.sk-toggleable__content {max-height: 200px;max-width: 100%;overflow: auto;}#sk-container-id-1 input.sk-toggleable__control:checked~label.sk-toggleable__label-arrow:before {content: \"▾\";}#sk-container-id-1 div.sk-estimator input.sk-toggleable__control:checked~label.sk-toggleable__label {background-color: #d4ebff;}#sk-container-id-1 div.sk-label input.sk-toggleable__control:checked~label.sk-toggleable__label {background-color: #d4ebff;}#sk-container-id-1 input.sk-hidden--visually {border: 0;clip: rect(1px 1px 1px 1px);clip: rect(1px, 1px, 1px, 1px);height: 1px;margin: -1px;overflow: hidden;padding: 0;position: absolute;width: 1px;}#sk-container-id-1 div.sk-estimator {font-family: monospace;background-color: #f0f8ff;border: 1px dotted black;border-radius: 0.25em;box-sizing: border-box;margin-bottom: 0.5em;}#sk-container-id-1 div.sk-estimator:hover {background-color: #d4ebff;}#sk-container-id-1 div.sk-parallel-item::after {content: \"\";width: 100%;border-bottom: 1px solid gray;flex-grow: 1;}#sk-container-id-1 div.sk-label:hover label.sk-toggleable__label {background-color: #d4ebff;}#sk-container-id-1 div.sk-serial::before {content: \"\";position: absolute;border-left: 1px solid gray;box-sizing: border-box;top: 0;bottom: 0;left: 50%;z-index: 0;}#sk-container-id-1 div.sk-serial {display: flex;flex-direction: column;align-items: center;background-color: white;padding-right: 0.2em;padding-left: 0.2em;position: relative;}#sk-container-id-1 div.sk-item {position: relative;z-index: 1;}#sk-container-id-1 div.sk-parallel {display: flex;align-items: stretch;justify-content: center;background-color: white;position: relative;}#sk-container-id-1 div.sk-item::before, #sk-container-id-1 div.sk-parallel-item::before {content: \"\";position: absolute;border-left: 1px solid gray;box-sizing: border-box;top: 0;bottom: 0;left: 50%;z-index: -1;}#sk-container-id-1 div.sk-parallel-item {display: flex;flex-direction: column;z-index: 1;position: relative;background-color: white;}#sk-container-id-1 div.sk-parallel-item:first-child::after {align-self: flex-end;width: 50%;}#sk-container-id-1 div.sk-parallel-item:last-child::after {align-self: flex-start;width: 50%;}#sk-container-id-1 div.sk-parallel-item:only-child::after {width: 0;}#sk-container-id-1 div.sk-dashed-wrapped {border: 1px dashed gray;margin: 0 0.4em 0.5em 0.4em;box-sizing: border-box;padding-bottom: 0.4em;background-color: white;}#sk-container-id-1 div.sk-label label {font-family: monospace;font-weight: bold;display: inline-block;line-height: 1.2em;}#sk-container-id-1 div.sk-label-container {text-align: center;}#sk-container-id-1 div.sk-container {/* jupyter's `normalize.less` sets `[hidden] { display: none; }` but bootstrap.min.css set `[hidden] { display: none !important; }` so we also need the `!important` here to be able to override the default hidden behavior on the sphinx rendered scikit-learn.org. See: https://github.com/scikit-learn/scikit-learn/issues/21755 */display: inline-block !important;position: relative;}#sk-container-id-1 div.sk-text-repr-fallback {display: none;}</style><div id=\"sk-container-id-1\" class=\"sk-top-container\"><div class=\"sk-text-repr-fallback\"><pre>SVC(C=10, gamma=0.01)</pre><b>In a Jupyter environment, please rerun this cell to show the HTML representation or trust the notebook. <br />On GitHub, the HTML representation is unable to render, please try loading this page with nbviewer.org.</b></div><div class=\"sk-container\" hidden><div class=\"sk-item\"><div class=\"sk-estimator sk-toggleable\"><input class=\"sk-toggleable__control sk-hidden--visually\" id=\"sk-estimator-id-1\" type=\"checkbox\" checked><label for=\"sk-estimator-id-1\" class=\"sk-toggleable__label sk-toggleable__label-arrow\">SVC</label><div class=\"sk-toggleable__content\"><pre>SVC(C=10, gamma=0.01)</pre></div></div></div></div></div>"
            ]
          },
          "metadata": {},
          "execution_count": 102
        }
      ]
    },
    {
      "cell_type": "code",
      "source": [
        "svс_best_accuracy = svc_best.score(X_test, y_test)"
      ],
      "metadata": {
        "id": "lorz-mXu3yM3"
      },
      "execution_count": 103,
      "outputs": []
    },
    {
      "cell_type": "code",
      "source": [
        "print(\"SVM Accuracy:\", svm_accuracy)\n",
        "print(\"SVM best Accuracy:\", svс_best_accuracy)\n",
        "print(\"Random Forest Accuracy:\", rf_accuracy)"
      ],
      "metadata": {
        "colab": {
          "base_uri": "https://localhost:8080/"
        },
        "id": "QHDrVhvA34bU",
        "outputId": "d825e083-8853-4e11-eae4-114fa6f1fdbb"
      },
      "execution_count": 105,
      "outputs": [
        {
          "output_type": "stream",
          "name": "stdout",
          "text": [
            "SVM Accuracy: 0.974477958236659\n",
            "SVM best Accuracy: 0.9938128383604021\n",
            "Random Forest Accuracy: 0.9992266047950503\n"
          ]
        }
      ]
    },
    {
      "cell_type": "code",
      "source": [
        "rf_best_model = RandomForestClassifier()\n",
        "param_grid = {'n_estimators': [10, 50, 100, 200, 500]}\n",
        "grid_search = GridSearchCV(estimator=rf_best_model, param_grid=param_grid, cv=5)\n",
        "grid_search.fit(X_train, y_train)\n",
        "print(\"Best n_estimators:\", grid_search.best_params_['n_estimators'])"
      ],
      "metadata": {
        "colab": {
          "base_uri": "https://localhost:8080/"
        },
        "id": "bQT0v6Fg5Qpq",
        "outputId": "397e855b-a753-4c75-b28c-6ce00d6d8e09"
      },
      "execution_count": 106,
      "outputs": [
        {
          "output_type": "stream",
          "name": "stdout",
          "text": [
            "Best n_estimators: 100\n"
          ]
        }
      ]
    },
    {
      "cell_type": "code",
      "source": [
        "rf_best_model = RandomForestClassifier(n_estimators = 100)\n",
        "rf_best_model.fit(X_train, y_train)\n",
        "rf_best_accuracy = rf_best_model.score(X_test, y_test)"
      ],
      "metadata": {
        "id": "aq-WiEwy53BL"
      },
      "execution_count": 108,
      "outputs": []
    },
    {
      "cell_type": "code",
      "source": [
        "print(\"SVM Accuracy:\", svm_accuracy)\n",
        "print(\"SVM best Accuracy:\", svс_best_accuracy)\n",
        "print(\"Random Forest Accuracy:\", rf_accuracy)\n",
        "print(\"Random best Forest Accuracy:\", rf_best_accuracy)"
      ],
      "metadata": {
        "colab": {
          "base_uri": "https://localhost:8080/"
        },
        "id": "mLcko0cA6WOY",
        "outputId": "80ebfa32-8d55-4bc6-adee-75a5edf35851"
      },
      "execution_count": 109,
      "outputs": [
        {
          "output_type": "stream",
          "name": "stdout",
          "text": [
            "SVM Accuracy: 0.974477958236659\n",
            "SVM best Accuracy: 0.9938128383604021\n",
            "Random Forest Accuracy: 0.9992266047950503\n",
            "Random best Forest Accuracy: 1.0\n"
          ]
        }
      ]
    },
    {
      "cell_type": "code",
      "source": [
        "y_pred = rf_best_model.predict(X_test)\n",
        "\n",
        "f1 = f1_score(y_test, y_pred, average='macro')\n",
        "\n",
        "print(\"F1-score:\", f1)"
      ],
      "metadata": {
        "colab": {
          "base_uri": "https://localhost:8080/"
        },
        "id": "cqJ7D8KJ6vvP",
        "outputId": "fbdaa869-f806-42b6-ca99-eb92cb543203"
      },
      "execution_count": 116,
      "outputs": [
        {
          "output_type": "stream",
          "name": "stdout",
          "text": [
            "F1-score: 1.0\n"
          ]
        }
      ]
    },
    {
      "cell_type": "markdown",
      "source": [
        "**ВИСНОВОК**\n",
        "\n",
        "навіть без усяких настроювань, для даних наборів даних метод Random Forest дає 99,9% коретних відповідей, після налаштувань з n_estimators відсоток піднявся до 100%. Метод SVM без налаштувань давав 97,4% з налаштуваннями 99,4%"
      ],
      "metadata": {
        "id": "i3eoh1J2-uUG"
      }
    }
  ]
}