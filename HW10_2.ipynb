{
  "nbformat": 4,
  "nbformat_minor": 0,
  "metadata": {
    "colab": {
      "provenance": [],
      "gpuType": "T4",
      "authorship_tag": "ABX9TyOiwJJN5KvgOlUWdLPHzeM+",
      "include_colab_link": true
    },
    "kernelspec": {
      "name": "python3",
      "display_name": "Python 3"
    },
    "language_info": {
      "name": "python"
    },
    "accelerator": "GPU"
  },
  "cells": [
    {
      "cell_type": "markdown",
      "metadata": {
        "id": "view-in-github",
        "colab_type": "text"
      },
      "source": [
        "<a href=\"https://colab.research.google.com/github/VadymBoyko/DS-HW01/blob/main/HW10_2.ipynb\" target=\"_parent\"><img src=\"https://colab.research.google.com/assets/colab-badge.svg\" alt=\"Open In Colab\"/></a>"
      ]
    },
    {
      "cell_type": "code",
      "execution_count": 1,
      "metadata": {
        "id": "TtYDlHNT1tVD"
      },
      "outputs": [],
      "source": [
        "import numpy as np\n",
        "import tensorflow as tf\n",
        "from tensorflow.keras.datasets import fashion_mnist\n",
        "from tensorflow.keras.applications import VGG16\n",
        "from tensorflow.keras.models import Sequential\n",
        "from tensorflow.keras.layers import Dense, GlobalAveragePooling2D\n",
        "from tensorflow.keras.optimizers import Adam"
      ]
    },
    {
      "cell_type": "code",
      "source": [
        "(x_train, y_train), (x_test, y_test) = fashion_mnist.load_data()"
      ],
      "metadata": {
        "id": "aa6IZHL41x93"
      },
      "execution_count": 2,
      "outputs": []
    },
    {
      "cell_type": "code",
      "source": [
        "x_train = np.expand_dims(x_train, axis=-1)\n",
        "x_test = np.expand_dims(x_test, axis=-1)"
      ],
      "metadata": {
        "id": "z0XpMfFb111E"
      },
      "execution_count": 3,
      "outputs": []
    },
    {
      "cell_type": "code",
      "source": [
        "x_train = np.repeat(x_train, 3, axis=-1)\n",
        "x_test = np.repeat(x_test, 3, axis=-1)"
      ],
      "metadata": {
        "id": "597-VlPoH9LL"
      },
      "execution_count": 4,
      "outputs": []
    },
    {
      "cell_type": "code",
      "source": [
        "x_train = tf.image.resize(x_train, (64, 64))\n",
        "x_test = tf.image.resize(x_test, (64, 64))"
      ],
      "metadata": {
        "id": "zQYZm30K17-_"
      },
      "execution_count": 5,
      "outputs": []
    },
    {
      "cell_type": "code",
      "source": [
        "x_train = x_train / 255.0\n",
        "x_test = x_test / 255.0"
      ],
      "metadata": {
        "id": "8eX2Q-0yEfz4"
      },
      "execution_count": 6,
      "outputs": []
    },
    {
      "cell_type": "code",
      "source": [
        "y_train = tf.keras.utils.to_categorical(y_train, num_classes=10)\n",
        "y_test = tf.keras.utils.to_categorical(y_test, num_classes=10)"
      ],
      "metadata": {
        "id": "BQeoLOjpFCDy"
      },
      "execution_count": 7,
      "outputs": []
    },
    {
      "cell_type": "code",
      "source": [
        "x_train.shape"
      ],
      "metadata": {
        "id": "0UFNE3xc2CB2",
        "colab": {
          "base_uri": "https://localhost:8080/"
        },
        "outputId": "e8693130-1ab1-49a1-a038-35f2120df4a5"
      },
      "execution_count": 8,
      "outputs": [
        {
          "output_type": "execute_result",
          "data": {
            "text/plain": [
              "TensorShape([60000, 64, 64, 3])"
            ]
          },
          "metadata": {},
          "execution_count": 8
        }
      ]
    },
    {
      "cell_type": "code",
      "source": [
        "base_model = VGG16(weights='imagenet', include_top=False, input_shape=(64, 64, 3))"
      ],
      "metadata": {
        "id": "tpsP3IVC2GKS"
      },
      "execution_count": 8,
      "outputs": []
    },
    {
      "cell_type": "code",
      "source": [
        "model = Sequential([\n",
        "    base_model,\n",
        "    GlobalAveragePooling2D(),\n",
        "    Dense(128, activation='relu'),\n",
        "    Dense(10, activation='softmax')\n",
        "])"
      ],
      "metadata": {
        "id": "aghVY4Z02HeJ"
      },
      "execution_count": 9,
      "outputs": []
    },
    {
      "cell_type": "code",
      "source": [
        "for layer in base_model.layers:\n",
        "    layer.trainable = False"
      ],
      "metadata": {
        "id": "6Apxd7KY3O2P"
      },
      "execution_count": 10,
      "outputs": []
    },
    {
      "cell_type": "code",
      "source": [
        "model.compile(optimizer=Adam(learning_rate=0.001), loss='categorical_crossentropy', metrics=['accuracy'])"
      ],
      "metadata": {
        "id": "SbzrwcDn3SiM"
      },
      "execution_count": 12,
      "outputs": []
    },
    {
      "cell_type": "code",
      "source": [
        "model.fit(x_train, y_train, batch_size=64, epochs=10, validation_split=0.1)"
      ],
      "metadata": {
        "colab": {
          "base_uri": "https://localhost:8080/"
        },
        "id": "Tel-zFs9GNOP",
        "outputId": "5627abfc-208e-41f7-c0a3-5aa597b07d4a"
      },
      "execution_count": 13,
      "outputs": [
        {
          "output_type": "stream",
          "name": "stdout",
          "text": [
            "Epoch 1/10\n",
            "844/844 [==============================] - 37s 30ms/step - loss: 0.5442 - accuracy: 0.8156 - val_loss: 0.4042 - val_accuracy: 0.8592\n",
            "Epoch 2/10\n",
            "844/844 [==============================] - 25s 29ms/step - loss: 0.3798 - accuracy: 0.8636 - val_loss: 0.3743 - val_accuracy: 0.8678\n",
            "Epoch 3/10\n",
            "844/844 [==============================] - 25s 29ms/step - loss: 0.3496 - accuracy: 0.8733 - val_loss: 0.3618 - val_accuracy: 0.8700\n",
            "Epoch 4/10\n",
            "844/844 [==============================] - 25s 30ms/step - loss: 0.3309 - accuracy: 0.8791 - val_loss: 0.3479 - val_accuracy: 0.8772\n",
            "Epoch 5/10\n",
            "844/844 [==============================] - 25s 30ms/step - loss: 0.3158 - accuracy: 0.8842 - val_loss: 0.3321 - val_accuracy: 0.8775\n",
            "Epoch 6/10\n",
            "844/844 [==============================] - 25s 30ms/step - loss: 0.3016 - accuracy: 0.8886 - val_loss: 0.3329 - val_accuracy: 0.8808\n",
            "Epoch 7/10\n",
            "844/844 [==============================] - 25s 30ms/step - loss: 0.2917 - accuracy: 0.8918 - val_loss: 0.3240 - val_accuracy: 0.8823\n",
            "Epoch 8/10\n",
            "844/844 [==============================] - 26s 30ms/step - loss: 0.2821 - accuracy: 0.8954 - val_loss: 0.3209 - val_accuracy: 0.8852\n",
            "Epoch 9/10\n",
            "844/844 [==============================] - 26s 30ms/step - loss: 0.2748 - accuracy: 0.8975 - val_loss: 0.3170 - val_accuracy: 0.8853\n",
            "Epoch 10/10\n",
            "844/844 [==============================] - 26s 30ms/step - loss: 0.2659 - accuracy: 0.9020 - val_loss: 0.3166 - val_accuracy: 0.8852\n"
          ]
        },
        {
          "output_type": "execute_result",
          "data": {
            "text/plain": [
              "<keras.callbacks.History at 0x7af19e385f30>"
            ]
          },
          "metadata": {},
          "execution_count": 13
        }
      ]
    },
    {
      "cell_type": "code",
      "source": [
        "test_loss, test_acc = model.evaluate(x_test, y_test)\n",
        "print(\"Test accuracy:\", test_acc)"
      ],
      "metadata": {
        "id": "s3wxH7QD3YiY",
        "colab": {
          "base_uri": "https://localhost:8080/"
        },
        "outputId": "5d74b848-2e50-4222-bed4-27377696d454"
      },
      "execution_count": 14,
      "outputs": [
        {
          "output_type": "stream",
          "name": "stdout",
          "text": [
            "313/313 [==============================] - 6s 18ms/step - loss: 0.3393 - accuracy: 0.8821\n",
            "Test accuracy: 0.882099986076355\n"
          ]
        }
      ]
    },
    {
      "cell_type": "code",
      "source": [
        "for layer in base_model.layers[-4:]:\n",
        "    layer.trainable = True"
      ],
      "metadata": {
        "id": "l9Q2BiZPO4vN"
      },
      "execution_count": 11,
      "outputs": []
    },
    {
      "cell_type": "code",
      "source": [
        "model.compile(optimizer=Adam(learning_rate=0.001), loss='categorical_crossentropy', metrics=['accuracy'])"
      ],
      "metadata": {
        "id": "ERcXr5UmO9NM"
      },
      "execution_count": 12,
      "outputs": []
    },
    {
      "cell_type": "code",
      "source": [
        "model.fit(x_train, y_train, batch_size=64, epochs=10, validation_split=0.1)"
      ],
      "metadata": {
        "colab": {
          "base_uri": "https://localhost:8080/"
        },
        "id": "R_94YnOHPB0V",
        "outputId": "2facbe44-4661-4702-9531-26de6355ba07"
      },
      "execution_count": 13,
      "outputs": [
        {
          "output_type": "stream",
          "name": "stdout",
          "text": [
            "Epoch 1/10\n",
            "844/844 [==============================] - 47s 38ms/step - loss: 0.3893 - accuracy: 0.8604 - val_loss: 0.3131 - val_accuracy: 0.8870\n",
            "Epoch 2/10\n",
            "844/844 [==============================] - 31s 37ms/step - loss: 0.2407 - accuracy: 0.9122 - val_loss: 0.2836 - val_accuracy: 0.9092\n",
            "Epoch 3/10\n",
            "844/844 [==============================] - 31s 37ms/step - loss: 0.2077 - accuracy: 0.9251 - val_loss: 0.2256 - val_accuracy: 0.9183\n",
            "Epoch 4/10\n",
            "844/844 [==============================] - 31s 37ms/step - loss: 0.1837 - accuracy: 0.9327 - val_loss: 0.2150 - val_accuracy: 0.9233\n",
            "Epoch 5/10\n",
            "844/844 [==============================] - 32s 37ms/step - loss: 0.1619 - accuracy: 0.9413 - val_loss: 0.2230 - val_accuracy: 0.9227\n",
            "Epoch 6/10\n",
            "844/844 [==============================] - 31s 37ms/step - loss: 0.1482 - accuracy: 0.9471 - val_loss: 0.2186 - val_accuracy: 0.9245\n",
            "Epoch 7/10\n",
            "844/844 [==============================] - 32s 38ms/step - loss: 0.1367 - accuracy: 0.9511 - val_loss: 0.2122 - val_accuracy: 0.9298\n",
            "Epoch 8/10\n",
            "844/844 [==============================] - 32s 38ms/step - loss: 0.1272 - accuracy: 0.9536 - val_loss: 0.2193 - val_accuracy: 0.9283\n",
            "Epoch 9/10\n",
            "844/844 [==============================] - 32s 38ms/step - loss: 0.1140 - accuracy: 0.9594 - val_loss: 0.2315 - val_accuracy: 0.9283\n",
            "Epoch 10/10\n",
            "844/844 [==============================] - 33s 39ms/step - loss: 0.1036 - accuracy: 0.9629 - val_loss: 0.2290 - val_accuracy: 0.9333\n"
          ]
        },
        {
          "output_type": "execute_result",
          "data": {
            "text/plain": [
              "<keras.callbacks.History at 0x7c47234add80>"
            ]
          },
          "metadata": {},
          "execution_count": 13
        }
      ]
    },
    {
      "cell_type": "code",
      "source": [
        "test_loss, test_acc = model.evaluate(x_test, y_test)\n",
        "print(\"Test accuracy:\", test_acc)"
      ],
      "metadata": {
        "colab": {
          "base_uri": "https://localhost:8080/"
        },
        "id": "ygZc3AE0QjRk",
        "outputId": "a369aadd-df83-45ad-951d-63306fc0b072"
      },
      "execution_count": 14,
      "outputs": [
        {
          "output_type": "stream",
          "name": "stdout",
          "text": [
            "313/313 [==============================] - 7s 18ms/step - loss: 0.2731 - accuracy: 0.9255\n",
            "Test accuracy: 0.9254999756813049\n"
          ]
        }
      ]
    },
    {
      "cell_type": "markdown",
      "source": [
        "**ПІДСУМКИ:**\n",
        "\n",
        "трохи грався ресайзом, коли робив ресайз до 32х32, то точність була 0.86, при ресайзі до 64х64 піднялась до 0.88\n",
        "\n",
        "\n",
        "Розблокувавши останній слой для донавчання точність підвищилась до 0.925\n",
        "\n",
        "\n"
      ],
      "metadata": {
        "id": "hII2WtqvMr4a"
      }
    }
  ]
}