{
  "nbformat": 4,
  "nbformat_minor": 0,
  "metadata": {
    "colab": {
      "provenance": [],
      "authorship_tag": "ABX9TyMgAKKuZUhbnLNiVQlEUn+Y",
      "include_colab_link": true
    },
    "kernelspec": {
      "name": "python3",
      "display_name": "Python 3"
    },
    "language_info": {
      "name": "python"
    }
  },
  "cells": [
    {
      "cell_type": "markdown",
      "metadata": {
        "id": "view-in-github",
        "colab_type": "text"
      },
      "source": [
        "<a href=\"https://colab.research.google.com/github/VadymBoyko/DS-HW01/blob/main/HW3.ipynb\" target=\"_parent\"><img src=\"https://colab.research.google.com/assets/colab-badge.svg\" alt=\"Open In Colab\"/></a>"
      ]
    },
    {
      "cell_type": "code",
      "execution_count": 307,
      "metadata": {
        "id": "xl0ITP510Jt8"
      },
      "outputs": [],
      "source": [
        "import numpy as np\n",
        "import pandas as pd\n",
        "import matplotlib.pyplot as plt\n",
        "from sklearn import linear_model"
      ]
    },
    {
      "cell_type": "code",
      "source": [
        "df = pd.read_csv('Housing.csv')\n",
        "df.head(5)"
      ],
      "metadata": {
        "id": "h8zUQW3k1MFD",
        "colab": {
          "base_uri": "https://localhost:8080/",
          "height": 206
        },
        "outputId": "6660e9d7-b2a1-41a3-8c41-2d4379c7f2b1"
      },
      "execution_count": 308,
      "outputs": [
        {
          "output_type": "execute_result",
          "data": {
            "text/plain": [
              "      price  area  bedrooms  bathrooms  stories mainroad guestroom basement  \\\n",
              "0  13300000  7420         4          2        3      yes        no       no   \n",
              "1  12250000  8960         4          4        4      yes        no       no   \n",
              "2  12250000  9960         3          2        2      yes        no      yes   \n",
              "3  12215000  7500         4          2        2      yes        no      yes   \n",
              "4  11410000  7420         4          1        2      yes       yes      yes   \n",
              "\n",
              "  hotwaterheating airconditioning  parking prefarea furnishingstatus  \n",
              "0              no             yes        2      yes        furnished  \n",
              "1              no             yes        3       no        furnished  \n",
              "2              no              no        2      yes   semi-furnished  \n",
              "3              no             yes        3      yes        furnished  \n",
              "4              no             yes        2       no        furnished  "
            ],
            "text/html": [
              "\n",
              "  <div id=\"df-204a1fb8-e91f-47b1-bcdd-f1f724f1fc51\">\n",
              "    <div class=\"colab-df-container\">\n",
              "      <div>\n",
              "<style scoped>\n",
              "    .dataframe tbody tr th:only-of-type {\n",
              "        vertical-align: middle;\n",
              "    }\n",
              "\n",
              "    .dataframe tbody tr th {\n",
              "        vertical-align: top;\n",
              "    }\n",
              "\n",
              "    .dataframe thead th {\n",
              "        text-align: right;\n",
              "    }\n",
              "</style>\n",
              "<table border=\"1\" class=\"dataframe\">\n",
              "  <thead>\n",
              "    <tr style=\"text-align: right;\">\n",
              "      <th></th>\n",
              "      <th>price</th>\n",
              "      <th>area</th>\n",
              "      <th>bedrooms</th>\n",
              "      <th>bathrooms</th>\n",
              "      <th>stories</th>\n",
              "      <th>mainroad</th>\n",
              "      <th>guestroom</th>\n",
              "      <th>basement</th>\n",
              "      <th>hotwaterheating</th>\n",
              "      <th>airconditioning</th>\n",
              "      <th>parking</th>\n",
              "      <th>prefarea</th>\n",
              "      <th>furnishingstatus</th>\n",
              "    </tr>\n",
              "  </thead>\n",
              "  <tbody>\n",
              "    <tr>\n",
              "      <th>0</th>\n",
              "      <td>13300000</td>\n",
              "      <td>7420</td>\n",
              "      <td>4</td>\n",
              "      <td>2</td>\n",
              "      <td>3</td>\n",
              "      <td>yes</td>\n",
              "      <td>no</td>\n",
              "      <td>no</td>\n",
              "      <td>no</td>\n",
              "      <td>yes</td>\n",
              "      <td>2</td>\n",
              "      <td>yes</td>\n",
              "      <td>furnished</td>\n",
              "    </tr>\n",
              "    <tr>\n",
              "      <th>1</th>\n",
              "      <td>12250000</td>\n",
              "      <td>8960</td>\n",
              "      <td>4</td>\n",
              "      <td>4</td>\n",
              "      <td>4</td>\n",
              "      <td>yes</td>\n",
              "      <td>no</td>\n",
              "      <td>no</td>\n",
              "      <td>no</td>\n",
              "      <td>yes</td>\n",
              "      <td>3</td>\n",
              "      <td>no</td>\n",
              "      <td>furnished</td>\n",
              "    </tr>\n",
              "    <tr>\n",
              "      <th>2</th>\n",
              "      <td>12250000</td>\n",
              "      <td>9960</td>\n",
              "      <td>3</td>\n",
              "      <td>2</td>\n",
              "      <td>2</td>\n",
              "      <td>yes</td>\n",
              "      <td>no</td>\n",
              "      <td>yes</td>\n",
              "      <td>no</td>\n",
              "      <td>no</td>\n",
              "      <td>2</td>\n",
              "      <td>yes</td>\n",
              "      <td>semi-furnished</td>\n",
              "    </tr>\n",
              "    <tr>\n",
              "      <th>3</th>\n",
              "      <td>12215000</td>\n",
              "      <td>7500</td>\n",
              "      <td>4</td>\n",
              "      <td>2</td>\n",
              "      <td>2</td>\n",
              "      <td>yes</td>\n",
              "      <td>no</td>\n",
              "      <td>yes</td>\n",
              "      <td>no</td>\n",
              "      <td>yes</td>\n",
              "      <td>3</td>\n",
              "      <td>yes</td>\n",
              "      <td>furnished</td>\n",
              "    </tr>\n",
              "    <tr>\n",
              "      <th>4</th>\n",
              "      <td>11410000</td>\n",
              "      <td>7420</td>\n",
              "      <td>4</td>\n",
              "      <td>1</td>\n",
              "      <td>2</td>\n",
              "      <td>yes</td>\n",
              "      <td>yes</td>\n",
              "      <td>yes</td>\n",
              "      <td>no</td>\n",
              "      <td>yes</td>\n",
              "      <td>2</td>\n",
              "      <td>no</td>\n",
              "      <td>furnished</td>\n",
              "    </tr>\n",
              "  </tbody>\n",
              "</table>\n",
              "</div>\n",
              "      <button class=\"colab-df-convert\" onclick=\"convertToInteractive('df-204a1fb8-e91f-47b1-bcdd-f1f724f1fc51')\"\n",
              "              title=\"Convert this dataframe to an interactive table.\"\n",
              "              style=\"display:none;\">\n",
              "        \n",
              "  <svg xmlns=\"http://www.w3.org/2000/svg\" height=\"24px\"viewBox=\"0 0 24 24\"\n",
              "       width=\"24px\">\n",
              "    <path d=\"M0 0h24v24H0V0z\" fill=\"none\"/>\n",
              "    <path d=\"M18.56 5.44l.94 2.06.94-2.06 2.06-.94-2.06-.94-.94-2.06-.94 2.06-2.06.94zm-11 1L8.5 8.5l.94-2.06 2.06-.94-2.06-.94L8.5 2.5l-.94 2.06-2.06.94zm10 10l.94 2.06.94-2.06 2.06-.94-2.06-.94-.94-2.06-.94 2.06-2.06.94z\"/><path d=\"M17.41 7.96l-1.37-1.37c-.4-.4-.92-.59-1.43-.59-.52 0-1.04.2-1.43.59L10.3 9.45l-7.72 7.72c-.78.78-.78 2.05 0 2.83L4 21.41c.39.39.9.59 1.41.59.51 0 1.02-.2 1.41-.59l7.78-7.78 2.81-2.81c.8-.78.8-2.07 0-2.86zM5.41 20L4 18.59l7.72-7.72 1.47 1.35L5.41 20z\"/>\n",
              "  </svg>\n",
              "      </button>\n",
              "      \n",
              "  <style>\n",
              "    .colab-df-container {\n",
              "      display:flex;\n",
              "      flex-wrap:wrap;\n",
              "      gap: 12px;\n",
              "    }\n",
              "\n",
              "    .colab-df-convert {\n",
              "      background-color: #E8F0FE;\n",
              "      border: none;\n",
              "      border-radius: 50%;\n",
              "      cursor: pointer;\n",
              "      display: none;\n",
              "      fill: #1967D2;\n",
              "      height: 32px;\n",
              "      padding: 0 0 0 0;\n",
              "      width: 32px;\n",
              "    }\n",
              "\n",
              "    .colab-df-convert:hover {\n",
              "      background-color: #E2EBFA;\n",
              "      box-shadow: 0px 1px 2px rgba(60, 64, 67, 0.3), 0px 1px 3px 1px rgba(60, 64, 67, 0.15);\n",
              "      fill: #174EA6;\n",
              "    }\n",
              "\n",
              "    [theme=dark] .colab-df-convert {\n",
              "      background-color: #3B4455;\n",
              "      fill: #D2E3FC;\n",
              "    }\n",
              "\n",
              "    [theme=dark] .colab-df-convert:hover {\n",
              "      background-color: #434B5C;\n",
              "      box-shadow: 0px 1px 3px 1px rgba(0, 0, 0, 0.15);\n",
              "      filter: drop-shadow(0px 1px 2px rgba(0, 0, 0, 0.3));\n",
              "      fill: #FFFFFF;\n",
              "    }\n",
              "  </style>\n",
              "\n",
              "      <script>\n",
              "        const buttonEl =\n",
              "          document.querySelector('#df-204a1fb8-e91f-47b1-bcdd-f1f724f1fc51 button.colab-df-convert');\n",
              "        buttonEl.style.display =\n",
              "          google.colab.kernel.accessAllowed ? 'block' : 'none';\n",
              "\n",
              "        async function convertToInteractive(key) {\n",
              "          const element = document.querySelector('#df-204a1fb8-e91f-47b1-bcdd-f1f724f1fc51');\n",
              "          const dataTable =\n",
              "            await google.colab.kernel.invokeFunction('convertToInteractive',\n",
              "                                                     [key], {});\n",
              "          if (!dataTable) return;\n",
              "\n",
              "          const docLinkHtml = 'Like what you see? Visit the ' +\n",
              "            '<a target=\"_blank\" href=https://colab.research.google.com/notebooks/data_table.ipynb>data table notebook</a>'\n",
              "            + ' to learn more about interactive tables.';\n",
              "          element.innerHTML = '';\n",
              "          dataTable['output_type'] = 'display_data';\n",
              "          await google.colab.output.renderOutput(dataTable, element);\n",
              "          const docLink = document.createElement('div');\n",
              "          docLink.innerHTML = docLinkHtml;\n",
              "          element.appendChild(docLink);\n",
              "        }\n",
              "      </script>\n",
              "    </div>\n",
              "  </div>\n",
              "  "
            ]
          },
          "metadata": {},
          "execution_count": 308
        }
      ]
    },
    {
      "cell_type": "code",
      "source": [
        "# Використання scikit-learn\n",
        "X = np.array(df[['area', 'bedrooms', 'bathrooms']])\n",
        "Y = np.array(df['price']/1000) # використав масштабування ціні\n",
        "model = linear_model.LinearRegression()\n",
        "model.fit(X, Y)\n",
        "model.intercept_, model.coef_"
      ],
      "metadata": {
        "colab": {
          "base_uri": "https://localhost:8080/"
        },
        "id": "4rjF7194DMJY",
        "outputId": "e42e72f2-55b8-4218-8fa7-ca2a08a06c66"
      },
      "execution_count": 389,
      "outputs": [
        {
          "output_type": "execute_result",
          "data": {
            "text/plain": [
              "(-173.17160763263473, array([3.78762754e-01, 4.06820034e+02, 1.38604950e+03]))"
            ]
          },
          "metadata": {},
          "execution_count": 389
        }
      ]
    },
    {
      "cell_type": "code",
      "source": [
        "X = np.insert(X, 0, 1, axis=1)"
      ],
      "metadata": {
        "id": "PEFe6uIU9eHn"
      },
      "execution_count": 390,
      "outputs": []
    },
    {
      "cell_type": "code",
      "source": [
        "model.predict(np.array([[10000, 4, 2]])) # погрався з прогнозами"
      ],
      "metadata": {
        "colab": {
          "base_uri": "https://localhost:8080/"
        },
        "id": "EFQevt_IWejV",
        "outputId": "4b1c34f4-f9b7-4309-fdca-146783a045f8"
      },
      "execution_count": 391,
      "outputs": [
        {
          "output_type": "execute_result",
          "data": {
            "text/plain": [
              "array([8013.83505888])"
            ]
          },
          "metadata": {},
          "execution_count": 391
        }
      ]
    },
    {
      "cell_type": "code",
      "source": [
        "# Аналітичне рішення\n",
        "np.linalg.inv(X.T.dot(X)).dot(X.T).dot(Y)"
      ],
      "metadata": {
        "colab": {
          "base_uri": "https://localhost:8080/"
        },
        "id": "c9b7_-A6-lDB",
        "outputId": "ea6a73bb-574a-408c-f90d-fbea54eb047e"
      },
      "execution_count": 392,
      "outputs": [
        {
          "output_type": "execute_result",
          "data": {
            "text/plain": [
              "array([-1.73171608e+02,  3.78762754e-01,  4.06820034e+02,  1.38604950e+03])"
            ]
          },
          "metadata": {},
          "execution_count": 392
        }
      ]
    },
    {
      "cell_type": "markdown",
      "source": [
        "Реалізуємо власний підхід"
      ],
      "metadata": {
        "id": "jSCuT82bIZJA"
      }
    },
    {
      "cell_type": "code",
      "source": [
        "# напишіть функцію гіпотези лінійної регресії у векторному вигляді;\n",
        "def hypothesis(x, w):\n",
        "    return x @ w"
      ],
      "metadata": {
        "id": "yOQm767EDMVC"
      },
      "execution_count": 393,
      "outputs": []
    },
    {
      "cell_type": "code",
      "source": [
        "# створіть функцію для обчислення функції втрат у векторному вигляді;\n",
        "def loss(x, y, w):\n",
        "    m = len(y)\n",
        "    return np.sum((hypothesis(x, w) - y)**2) / (2 * m)"
      ],
      "metadata": {
        "id": "5IKYkgNoDMYh"
      },
      "execution_count": 394,
      "outputs": []
    },
    {
      "cell_type": "code",
      "source": [
        "# реалізуйте один крок градієнтного спуску;\n",
        "def gradient_descent_step(x, y, w, learning_rate):\n",
        "    m = len(y)\n",
        "    w = w - learning_rate / m * x.T @ (hypothesis(x, w) - y)\n",
        "    return w"
      ],
      "metadata": {
        "id": "k0NTEOAjDMdi"
      },
      "execution_count": 395,
      "outputs": []
    },
    {
      "cell_type": "code",
      "source": [
        "def fit_model(x, y, w, epoch, learning_rate, thr):\n",
        "    prev_loss_value = loss(x, y, w)\n",
        "    for i in range(epoch):\n",
        "        w = gradient_descent_step(x, y, w, learning_rate)\n",
        "        loss_value = loss(x, y, w)\n",
        "        if i % 100000 == 0:\n",
        "          print(prev_loss_value - loss_value)\n",
        "        if prev_loss_value - loss_value < thr:\n",
        "            break\n",
        "        prev_loss_value = loss_value\n",
        "    return w, i"
      ],
      "metadata": {
        "id": "MjMqb1vG9ehU"
      },
      "execution_count": 396,
      "outputs": []
    },
    {
      "cell_type": "code",
      "source": [
        "W = np.array([-173, 0.4, 400, 1200])"
      ],
      "metadata": {
        "id": "QSH7RWcp-5fI"
      },
      "execution_count": 408,
      "outputs": []
    },
    {
      "cell_type": "code",
      "source": [
        "# X_normalized = np.array(df[['area', 'bedrooms', 'bathrooms']])\n",
        "# Y_normalized = np.array(df['price']/1000000)\n",
        "# area_column = X_normalized[:, 0]\n",
        "# area_normalized = (area_column - area_column.min()) / (area_column.max() - area_column.min())\n",
        "# X_normalized = np.column_stack((area_normalized, X_normalized[:, 1:],))\n",
        "# X_normalized = np.insert(X_normalized, 0, 1, axis=1)\n",
        "# X_normalized"
      ],
      "metadata": {
        "id": "xaCbEefilFbV"
      },
      "execution_count": 364,
      "outputs": []
    },
    {
      "cell_type": "code",
      "source": [
        "my_result = fit_model(X, Y, W, epoch=10000000, learning_rate=0.00000001, thr=0.00000001)\n",
        "my_result"
      ],
      "metadata": {
        "colab": {
          "base_uri": "https://localhost:8080/"
        },
        "id": "MB2FMCyrPWbn",
        "outputId": "0d1cbf6c-eaeb-4f7b-9128-c8c319c983ee"
      },
      "execution_count": 409,
      "outputs": [
        {
          "output_type": "stream",
          "name": "stdout",
          "text": [
            "4295.9820935479365\n",
            "0.00020491331815719604\n",
            "0.0002041546395048499\n",
            "0.0002033986384049058\n",
            "0.00020264566410332918\n",
            "0.0002018958330154419\n",
            "0.00020114879589527845\n",
            "0.00020040443632751703\n",
            "0.0001996634528040886\n",
            "0.00019892468117177486\n",
            "0.0001981891691684723\n",
            "0.00019745633471757174\n",
            "0.00019672652706503868\n",
            "0.00019599951338022947\n",
            "0.00019527541007846594\n",
            "0.0001945538679137826\n",
            "0.00019383500330150127\n",
            "0.00019311928190290928\n",
            "0.0001924062380567193\n",
            "0.00019169575534760952\n",
            "0.00019098829943686724\n",
            "0.0001902836374938488\n",
            "0.0001895813038572669\n",
            "0.00018888176418840885\n",
            "0.000188184785656631\n",
            "0.00018749095033854246\n",
            "0.00018679967615753412\n",
            "0.0001861110795289278\n",
            "0.0001854251604527235\n",
            "0.0001847418025135994\n",
            "0.0001840611221268773\n",
            "0.00018338311929255724\n",
            "0.00018270767759531736\n",
            "0.00018203479703515768\n",
            "0.0001813644776120782\n",
            "0.00018069695215672255\n",
            "0.0001800319878384471\n",
            "0.00017936958465725183\n",
            "0.00017870962619781494\n",
            "0.00017805234529078007\n",
            "0.00017739750910550356\n",
            "0.00017674511764198542\n",
            "0.00017609528731554747\n",
            "0.00017544825095683336\n",
            "0.0001748035429045558\n",
            "0.00017416116315871477\n",
            "0.00017352146096527576\n",
            "0.00017288420349359512\n",
            "0.00017224939074367285\n",
            "0.00017161702271550894\n",
            "0.0001709870994091034\n",
            "0.00017035973723977804\n",
            "0.0001697345869615674\n",
            "0.00016911199782043695\n",
            "0.00016849185340106487\n",
            "0.00016787380445748568\n",
            "0.00016725854948163033\n",
            "0.0001666455063968897\n",
            "0.00016603467520326376\n",
            "0.00016542652156203985\n",
            "0.00016482057981193066\n",
            "0.00016421673353761435\n",
            "0.00016361544840037823\n",
            "0.00016301660798490047\n",
            "0.00016241997946053743\n",
            "0.0001618255628272891\n",
            "0.00016123359091579914\n",
            "0.00016064406372606754\n",
            "0.00016005616635084152\n",
            "0.00015947117935866117\n",
            "0.00015888805501163006\n",
            "0.00015830749180167913\n",
            "0.0001577290240675211\n",
            "0.0001571528846397996\n",
            "0.0001565789571031928\n",
            "0.00015600724145770073\n",
            "0.00015543773770332336\n",
            "0.00015487021300941706\n",
            "0.00015430524945259094\n",
            "0.00015374214854091406\n",
            "0.0001531812595203519\n",
            "0.00015262281522154808\n",
            "0.00015206634998321533\n",
            "0.00015151186380535364\n",
            "0.0001509597059339285\n",
            "0.00015040975995361805\n",
            "0.00014986167661845684\n",
            "0.00014931627083569765\n",
            "0.00014877249486744404\n",
            "0.00014823069795966148\n",
            "0.00014769122935831547\n",
            "0.0001471537398174405\n",
            "0.00014661846216768026\n",
            "0.0001460852799937129\n",
            "0.0001455540768802166\n",
            "0.00014502496924251318\n",
            "0.00014449784066528082\n",
            "0.00014397280756384134\n",
            "0.00014344986993819475\n",
            "0.0001429287949576974\n"
          ]
        },
        {
          "output_type": "execute_result",
          "data": {
            "text/plain": [
              "(array([-1.70071257e+02,  4.15595826e-01,  4.10307354e+02,  1.20752838e+03]),\n",
              " 9999999)"
            ]
          },
          "metadata": {},
          "execution_count": 409
        }
      ]
    },
    {
      "cell_type": "markdown",
      "source": [
        "**Висновки та аніліз результатів:**\n",
        "\n",
        "1. для досягення результатів власного метода був змушений проводити масштабування даних, а саме ціни, для того, аби дочекатися результатів (нажаль)\n",
        "\n",
        "2. Аналітичний метод та sklearn швидко надали однаковий результат:\n",
        "\n",
        "***Аналітичний*** (привів з експоненціального вигляду)\n",
        "\n",
        "-173.171608,  0.378762754,  406.820034,  1386.04950\n",
        "\n",
        "***sklearn***\n",
        "\n",
        "-173.17160763263473, 0.378762754, 406.820034, 1386.04950\n",
        "\n",
        "***результати власного методу розрахунку*** прийшлось чекати дуже довго\n",
        "при встановленних початкових значеннях коеф 1, 1, 1, 1 після виконная 10 000 000 ітерацій, результати зовсім не схожі на ті, що були отримані першими двома методами\n",
        "\n",
        "1.03583682, 0.85473914, 1.1359364 , 1.07657203\n",
        "\n",
        "Якщо вказати початкові значення приблизно до того, що було отримано іншими способами, а саме\n",
        "\n",
        " -173, 0.4, 400, 1200\n",
        "\n",
        "то значення знайшлися близькі до тих, що повернули інши методи\n",
        "\n",
        "-170.071257,  0.415595826,  410.307354,  1207.52838\n",
        "\n",
        "Висновки - не треба писати код, треба використовувати біблу )"
      ],
      "metadata": {
        "id": "dcOxSyEyqJQE"
      }
    }
  ]
}