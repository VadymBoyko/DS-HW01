{
  "nbformat": 4,
  "nbformat_minor": 0,
  "metadata": {
    "colab": {
      "provenance": [],
      "authorship_tag": "ABX9TyNLu4BhtqcMRxQdpmKwgtUI",
      "include_colab_link": true
    },
    "kernelspec": {
      "name": "python3",
      "display_name": "Python 3"
    },
    "language_info": {
      "name": "python"
    }
  },
  "cells": [
    {
      "cell_type": "markdown",
      "metadata": {
        "id": "view-in-github",
        "colab_type": "text"
      },
      "source": [
        "<a href=\"https://colab.research.google.com/github/VadymBoyko/DS-HW01/blob/main/HW3.ipynb\" target=\"_parent\"><img src=\"https://colab.research.google.com/assets/colab-badge.svg\" alt=\"Open In Colab\"/></a>"
      ]
    },
    {
      "cell_type": "code",
      "execution_count": 307,
      "metadata": {
        "id": "xl0ITP510Jt8"
      },
      "outputs": [],
      "source": [
        "import numpy as np\n",
        "import pandas as pd\n",
        "import matplotlib.pyplot as plt\n",
        "from sklearn import linear_model"
      ]
    },
    {
      "cell_type": "code",
      "source": [
        "df = pd.read_csv('Housing.csv')\n",
        "df.head(5)"
      ],
      "metadata": {
        "id": "h8zUQW3k1MFD",
        "colab": {
          "base_uri": "https://localhost:8080/",
          "height": 206
        },
        "outputId": "6660e9d7-b2a1-41a3-8c41-2d4379c7f2b1"
      },
      "execution_count": 308,
      "outputs": [
        {
          "output_type": "execute_result",
          "data": {
            "text/plain": [
              "      price  area  bedrooms  bathrooms  stories mainroad guestroom basement  \\\n",
              "0  13300000  7420         4          2        3      yes        no       no   \n",
              "1  12250000  8960         4          4        4      yes        no       no   \n",
              "2  12250000  9960         3          2        2      yes        no      yes   \n",
              "3  12215000  7500         4          2        2      yes        no      yes   \n",
              "4  11410000  7420         4          1        2      yes       yes      yes   \n",
              "\n",
              "  hotwaterheating airconditioning  parking prefarea furnishingstatus  \n",
              "0              no             yes        2      yes        furnished  \n",
              "1              no             yes        3       no        furnished  \n",
              "2              no              no        2      yes   semi-furnished  \n",
              "3              no             yes        3      yes        furnished  \n",
              "4              no             yes        2       no        furnished  "
            ],
            "text/html": [
              "\n",
              "  <div id=\"df-204a1fb8-e91f-47b1-bcdd-f1f724f1fc51\">\n",
              "    <div class=\"colab-df-container\">\n",
              "      <div>\n",
              "<style scoped>\n",
              "    .dataframe tbody tr th:only-of-type {\n",
              "        vertical-align: middle;\n",
              "    }\n",
              "\n",
              "    .dataframe tbody tr th {\n",
              "        vertical-align: top;\n",
              "    }\n",
              "\n",
              "    .dataframe thead th {\n",
              "        text-align: right;\n",
              "    }\n",
              "</style>\n",
              "<table border=\"1\" class=\"dataframe\">\n",
              "  <thead>\n",
              "    <tr style=\"text-align: right;\">\n",
              "      <th></th>\n",
              "      <th>price</th>\n",
              "      <th>area</th>\n",
              "      <th>bedrooms</th>\n",
              "      <th>bathrooms</th>\n",
              "      <th>stories</th>\n",
              "      <th>mainroad</th>\n",
              "      <th>guestroom</th>\n",
              "      <th>basement</th>\n",
              "      <th>hotwaterheating</th>\n",
              "      <th>airconditioning</th>\n",
              "      <th>parking</th>\n",
              "      <th>prefarea</th>\n",
              "      <th>furnishingstatus</th>\n",
              "    </tr>\n",
              "  </thead>\n",
              "  <tbody>\n",
              "    <tr>\n",
              "      <th>0</th>\n",
              "      <td>13300000</td>\n",
              "      <td>7420</td>\n",
              "      <td>4</td>\n",
              "      <td>2</td>\n",
              "      <td>3</td>\n",
              "      <td>yes</td>\n",
              "      <td>no</td>\n",
              "      <td>no</td>\n",
              "      <td>no</td>\n",
              "      <td>yes</td>\n",
              "      <td>2</td>\n",
              "      <td>yes</td>\n",
              "      <td>furnished</td>\n",
              "    </tr>\n",
              "    <tr>\n",
              "      <th>1</th>\n",
              "      <td>12250000</td>\n",
              "      <td>8960</td>\n",
              "      <td>4</td>\n",
              "      <td>4</td>\n",
              "      <td>4</td>\n",
              "      <td>yes</td>\n",
              "      <td>no</td>\n",
              "      <td>no</td>\n",
              "      <td>no</td>\n",
              "      <td>yes</td>\n",
              "      <td>3</td>\n",
              "      <td>no</td>\n",
              "      <td>furnished</td>\n",
              "    </tr>\n",
              "    <tr>\n",
              "      <th>2</th>\n",
              "      <td>12250000</td>\n",
              "      <td>9960</td>\n",
              "      <td>3</td>\n",
              "      <td>2</td>\n",
              "      <td>2</td>\n",
              "      <td>yes</td>\n",
              "      <td>no</td>\n",
              "      <td>yes</td>\n",
              "      <td>no</td>\n",
              "      <td>no</td>\n",
              "      <td>2</td>\n",
              "      <td>yes</td>\n",
              "      <td>semi-furnished</td>\n",
              "    </tr>\n",
              "    <tr>\n",
              "      <th>3</th>\n",
              "      <td>12215000</td>\n",
              "      <td>7500</td>\n",
              "      <td>4</td>\n",
              "      <td>2</td>\n",
              "      <td>2</td>\n",
              "      <td>yes</td>\n",
              "      <td>no</td>\n",
              "      <td>yes</td>\n",
              "      <td>no</td>\n",
              "      <td>yes</td>\n",
              "      <td>3</td>\n",
              "      <td>yes</td>\n",
              "      <td>furnished</td>\n",
              "    </tr>\n",
              "    <tr>\n",
              "      <th>4</th>\n",
              "      <td>11410000</td>\n",
              "      <td>7420</td>\n",
              "      <td>4</td>\n",
              "      <td>1</td>\n",
              "      <td>2</td>\n",
              "      <td>yes</td>\n",
              "      <td>yes</td>\n",
              "      <td>yes</td>\n",
              "      <td>no</td>\n",
              "      <td>yes</td>\n",
              "      <td>2</td>\n",
              "      <td>no</td>\n",
              "      <td>furnished</td>\n",
              "    </tr>\n",
              "  </tbody>\n",
              "</table>\n",
              "</div>\n",
              "      <button class=\"colab-df-convert\" onclick=\"convertToInteractive('df-204a1fb8-e91f-47b1-bcdd-f1f724f1fc51')\"\n",
              "              title=\"Convert this dataframe to an interactive table.\"\n",
              "              style=\"display:none;\">\n",
              "        \n",
              "  <svg xmlns=\"http://www.w3.org/2000/svg\" height=\"24px\"viewBox=\"0 0 24 24\"\n",
              "       width=\"24px\">\n",
              "    <path d=\"M0 0h24v24H0V0z\" fill=\"none\"/>\n",
              "    <path d=\"M18.56 5.44l.94 2.06.94-2.06 2.06-.94-2.06-.94-.94-2.06-.94 2.06-2.06.94zm-11 1L8.5 8.5l.94-2.06 2.06-.94-2.06-.94L8.5 2.5l-.94 2.06-2.06.94zm10 10l.94 2.06.94-2.06 2.06-.94-2.06-.94-.94-2.06-.94 2.06-2.06.94z\"/><path d=\"M17.41 7.96l-1.37-1.37c-.4-.4-.92-.59-1.43-.59-.52 0-1.04.2-1.43.59L10.3 9.45l-7.72 7.72c-.78.78-.78 2.05 0 2.83L4 21.41c.39.39.9.59 1.41.59.51 0 1.02-.2 1.41-.59l7.78-7.78 2.81-2.81c.8-.78.8-2.07 0-2.86zM5.41 20L4 18.59l7.72-7.72 1.47 1.35L5.41 20z\"/>\n",
              "  </svg>\n",
              "      </button>\n",
              "      \n",
              "  <style>\n",
              "    .colab-df-container {\n",
              "      display:flex;\n",
              "      flex-wrap:wrap;\n",
              "      gap: 12px;\n",
              "    }\n",
              "\n",
              "    .colab-df-convert {\n",
              "      background-color: #E8F0FE;\n",
              "      border: none;\n",
              "      border-radius: 50%;\n",
              "      cursor: pointer;\n",
              "      display: none;\n",
              "      fill: #1967D2;\n",
              "      height: 32px;\n",
              "      padding: 0 0 0 0;\n",
              "      width: 32px;\n",
              "    }\n",
              "\n",
              "    .colab-df-convert:hover {\n",
              "      background-color: #E2EBFA;\n",
              "      box-shadow: 0px 1px 2px rgba(60, 64, 67, 0.3), 0px 1px 3px 1px rgba(60, 64, 67, 0.15);\n",
              "      fill: #174EA6;\n",
              "    }\n",
              "\n",
              "    [theme=dark] .colab-df-convert {\n",
              "      background-color: #3B4455;\n",
              "      fill: #D2E3FC;\n",
              "    }\n",
              "\n",
              "    [theme=dark] .colab-df-convert:hover {\n",
              "      background-color: #434B5C;\n",
              "      box-shadow: 0px 1px 3px 1px rgba(0, 0, 0, 0.15);\n",
              "      filter: drop-shadow(0px 1px 2px rgba(0, 0, 0, 0.3));\n",
              "      fill: #FFFFFF;\n",
              "    }\n",
              "  </style>\n",
              "\n",
              "      <script>\n",
              "        const buttonEl =\n",
              "          document.querySelector('#df-204a1fb8-e91f-47b1-bcdd-f1f724f1fc51 button.colab-df-convert');\n",
              "        buttonEl.style.display =\n",
              "          google.colab.kernel.accessAllowed ? 'block' : 'none';\n",
              "\n",
              "        async function convertToInteractive(key) {\n",
              "          const element = document.querySelector('#df-204a1fb8-e91f-47b1-bcdd-f1f724f1fc51');\n",
              "          const dataTable =\n",
              "            await google.colab.kernel.invokeFunction('convertToInteractive',\n",
              "                                                     [key], {});\n",
              "          if (!dataTable) return;\n",
              "\n",
              "          const docLinkHtml = 'Like what you see? Visit the ' +\n",
              "            '<a target=\"_blank\" href=https://colab.research.google.com/notebooks/data_table.ipynb>data table notebook</a>'\n",
              "            + ' to learn more about interactive tables.';\n",
              "          element.innerHTML = '';\n",
              "          dataTable['output_type'] = 'display_data';\n",
              "          await google.colab.output.renderOutput(dataTable, element);\n",
              "          const docLink = document.createElement('div');\n",
              "          docLink.innerHTML = docLinkHtml;\n",
              "          element.appendChild(docLink);\n",
              "        }\n",
              "      </script>\n",
              "    </div>\n",
              "  </div>\n",
              "  "
            ]
          },
          "metadata": {},
          "execution_count": 308
        }
      ]
    },
    {
      "cell_type": "code",
      "source": [
        "# Використання scikit-learn\n",
        "X = np.array(df[['area', 'bedrooms', 'bathrooms']])\n",
        "Y = np.array(df['price']/1000) # використав масштабування ціні\n",
        "model = linear_model.LinearRegression()\n",
        "model.fit(X, Y)\n",
        "model.intercept_, model.coef_"
      ],
      "metadata": {
        "colab": {
          "base_uri": "https://localhost:8080/"
        },
        "id": "4rjF7194DMJY",
        "outputId": "e42e72f2-55b8-4218-8fa7-ca2a08a06c66"
      },
      "execution_count": 389,
      "outputs": [
        {
          "output_type": "execute_result",
          "data": {
            "text/plain": [
              "(-173.17160763263473, array([3.78762754e-01, 4.06820034e+02, 1.38604950e+03]))"
            ]
          },
          "metadata": {},
          "execution_count": 389
        }
      ]
    },
    {
      "cell_type": "code",
      "source": [
        "X = np.insert(X, 0, 1, axis=1)"
      ],
      "metadata": {
        "id": "PEFe6uIU9eHn"
      },
      "execution_count": 390,
      "outputs": []
    },
    {
      "cell_type": "code",
      "source": [
        "model.predict(np.array([[10000, 4, 2]])) # погрався з прогнозами"
      ],
      "metadata": {
        "colab": {
          "base_uri": "https://localhost:8080/"
        },
        "id": "EFQevt_IWejV",
        "outputId": "4b1c34f4-f9b7-4309-fdca-146783a045f8"
      },
      "execution_count": 391,
      "outputs": [
        {
          "output_type": "execute_result",
          "data": {
            "text/plain": [
              "array([8013.83505888])"
            ]
          },
          "metadata": {},
          "execution_count": 391
        }
      ]
    },
    {
      "cell_type": "code",
      "source": [
        "# Аналітичне рішення\n",
        "np.linalg.inv(X.T.dot(X)).dot(X.T).dot(Y)"
      ],
      "metadata": {
        "colab": {
          "base_uri": "https://localhost:8080/"
        },
        "id": "c9b7_-A6-lDB",
        "outputId": "ea6a73bb-574a-408c-f90d-fbea54eb047e"
      },
      "execution_count": 392,
      "outputs": [
        {
          "output_type": "execute_result",
          "data": {
            "text/plain": [
              "array([-1.73171608e+02,  3.78762754e-01,  4.06820034e+02,  1.38604950e+03])"
            ]
          },
          "metadata": {},
          "execution_count": 392
        }
      ]
    },
    {
      "cell_type": "markdown",
      "source": [
        "Реалізуємо власний підхід"
      ],
      "metadata": {
        "id": "jSCuT82bIZJA"
      }
    },
    {
      "cell_type": "code",
      "source": [
        "# напишіть функцію гіпотези лінійної регресії у векторному вигляді;\n",
        "def hypothesis(x, w):\n",
        "    return x @ w"
      ],
      "metadata": {
        "id": "yOQm767EDMVC"
      },
      "execution_count": 393,
      "outputs": []
    },
    {
      "cell_type": "code",
      "source": [
        "# створіть функцію для обчислення функції втрат у векторному вигляді;\n",
        "def loss(x, y, w):\n",
        "    m = len(y)\n",
        "    return np.sum((hypothesis(x, w) - y)**2) / (2 * m)"
      ],
      "metadata": {
        "id": "5IKYkgNoDMYh"
      },
      "execution_count": 394,
      "outputs": []
    },
    {
      "cell_type": "code",
      "source": [
        "# реалізуйте один крок градієнтного спуску;\n",
        "def gradient_descent_step(x, y, w, learning_rate):\n",
        "    m = len(y)\n",
        "    w = w - learning_rate / m * x.T @ (hypothesis(x, w) - y)\n",
        "    return w"
      ],
      "metadata": {
        "id": "k0NTEOAjDMdi"
      },
      "execution_count": 395,
      "outputs": []
    },
    {
      "cell_type": "code",
      "source": [
        "def fit_model(x, y, w, epoch, learning_rate, thr):\n",
        "    prev_loss_value = loss(x, y, w)\n",
        "    for i in range(epoch):\n",
        "        w = gradient_descent_step(x, y, w, learning_rate)\n",
        "        loss_value = loss(x, y, w)\n",
        "        if i % 100000 == 0:\n",
        "          print(prev_loss_value - loss_value)\n",
        "        if prev_loss_value - loss_value < thr:\n",
        "            break\n",
        "        prev_loss_value = loss_value\n",
        "    return w, i"
      ],
      "metadata": {
        "id": "MjMqb1vG9ehU"
      },
      "execution_count": 396,
      "outputs": []
    },
    {
      "cell_type": "code",
      "source": [
        "W = np.array([1, 1, 1, 1])"
      ],
      "metadata": {
        "id": "QSH7RWcp-5fI"
      },
      "execution_count": 397,
      "outputs": []
    },
    {
      "cell_type": "code",
      "source": [
        "# X_normalized = np.array(df[['area', 'bedrooms', 'bathrooms']])\n",
        "# Y_normalized = np.array(df['price']/1000000)\n",
        "# area_column = X_normalized[:, 0]\n",
        "# area_normalized = (area_column - area_column.min()) / (area_column.max() - area_column.min())\n",
        "# X_normalized = np.column_stack((area_normalized, X_normalized[:, 1:],))\n",
        "# X_normalized = np.insert(X_normalized, 0, 1, axis=1)\n",
        "# X_normalized"
      ],
      "metadata": {
        "id": "xaCbEefilFbV"
      },
      "execution_count": 364,
      "outputs": []
    },
    {
      "cell_type": "code",
      "source": [
        "my_result = fit_model(X, Y, W, epoch=10000000, learning_rate=0.00000000001, thr=0.0000000001)\n",
        "my_result"
      ],
      "metadata": {
        "colab": {
          "base_uri": "https://localhost:8080/"
        },
        "id": "MB2FMCyrPWbn",
        "outputId": "b8bf39ce-b2a0-4f4b-8caf-d3c7ef59332d"
      },
      "execution_count": 398,
      "outputs": [
        {
          "output_type": "stream",
          "name": "stdout",
          "text": [
            "205.49662440060638\n",
            "2.565770410001278e-05\n",
            "2.5656772777438164e-05\n",
            "2.565770410001278e-05\n",
            "2.565723843872547e-05\n",
            "2.565723843872547e-05\n",
            "2.5656772777438164e-05\n",
            "2.5657471269369125e-05\n",
            "2.5656307116150856e-05\n",
            "2.5656772777438164e-05\n",
            "2.5656307116150856e-05\n",
            "2.5656074285507202e-05\n",
            "2.5655841454863548e-05\n",
            "2.5655608624219894e-05\n",
            "2.5656074285507202e-05\n",
            "2.565653994679451e-05\n",
            "2.5656307116150856e-05\n",
            "2.5656307116150856e-05\n",
            "2.5655608624219894e-05\n",
            "2.5655608624219894e-05\n",
            "2.5655142962932587e-05\n",
            "2.565467730164528e-05\n",
            "2.5655142962932587e-05\n",
            "2.565537579357624e-05\n",
            "2.5654910132288933e-05\n",
            "2.565467730164528e-05\n",
            "2.5654910132288933e-05\n",
            "2.5655142962932587e-05\n",
            "2.5654910132288933e-05\n",
            "2.5654444471001625e-05\n",
            "2.5654444471001625e-05\n",
            "2.565421164035797e-05\n",
            "2.5654910132288933e-05\n",
            "2.565421164035797e-05\n",
            "2.5653978809714317e-05\n",
            "2.5654444471001625e-05\n",
            "2.5653745979070663e-05\n",
            "2.5653745979070663e-05\n",
            "2.5653745979070663e-05\n",
            "2.5653978809714317e-05\n",
            "2.565351314842701e-05\n",
            "2.5653745979070663e-05\n",
            "2.5653745979070663e-05\n",
            "2.5653280317783356e-05\n",
            "2.565234899520874e-05\n",
            "2.5652814656496048e-05\n",
            "2.5652814656496048e-05\n",
            "2.5652814656496048e-05\n",
            "2.565234899520874e-05\n",
            "2.5652116164565086e-05\n",
            "2.5652116164565086e-05\n",
            "2.5652581825852394e-05\n",
            "2.5652116164565086e-05\n",
            "2.5651883333921432e-05\n",
            "2.5651883333921432e-05\n",
            "2.565234899520874e-05\n",
            "2.5651883333921432e-05\n",
            "2.5652116164565086e-05\n",
            "2.5651417672634125e-05\n",
            "2.5651417672634125e-05\n",
            "2.565165050327778e-05\n",
            "2.565118484199047e-05\n",
            "2.565165050327778e-05\n",
            "2.5651417672634125e-05\n",
            "2.5650952011346817e-05\n",
            "2.5650952011346817e-05\n",
            "2.5650719180703163e-05\n",
            "2.5650719180703163e-05\n",
            "2.565048635005951e-05\n",
            "2.5650719180703163e-05\n",
            "2.5650719180703163e-05\n",
            "2.565048635005951e-05\n",
            "2.56500206887722e-05\n",
            "2.5649787858128548e-05\n",
            "2.565048635005951e-05\n",
            "2.565048635005951e-05\n",
            "2.56500206887722e-05\n",
            "2.5649787858128548e-05\n",
            "2.56500206887722e-05\n",
            "2.56500206887722e-05\n",
            "2.564932219684124e-05\n",
            "2.5649089366197586e-05\n",
            "2.564932219684124e-05\n",
            "2.5649555027484894e-05\n",
            "2.5649089366197586e-05\n",
            "2.5648856535553932e-05\n",
            "2.564932219684124e-05\n",
            "2.564862370491028e-05\n",
            "2.5648856535553932e-05\n",
            "2.5648390874266624e-05\n",
            "2.5649089366197586e-05\n",
            "2.5648390874266624e-05\n",
            "2.564815804362297e-05\n",
            "2.564862370491028e-05\n",
            "2.5647925212979317e-05\n",
            "2.5647925212979317e-05\n",
            "2.5647925212979317e-05\n",
            "2.5647925212979317e-05\n",
            "2.5647692382335663e-05\n",
            "2.5647226721048355e-05\n"
          ]
        },
        {
          "output_type": "execute_result",
          "data": {
            "text/plain": [
              "(array([1.03583682, 0.85473914, 1.1359364 , 1.07657203]), 9999999)"
            ]
          },
          "metadata": {},
          "execution_count": 398
        }
      ]
    },
    {
      "cell_type": "markdown",
      "source": [
        "**Висновки та аніліз результатів:**\n",
        "\n",
        "1. для досягення результатів власного метода був змушений проводити масштабування даних, а саме ціни, для того, аби дочекатися результатів (нажаль)\n",
        "\n",
        "2. Аналітичний метод та sklearn швидко надали однаковий результат:\n",
        "\n",
        "***Аналітичний*** (привів з експоненціального вигляду)\n",
        "\n",
        "-173.171608,  0.378762754,  406.820034,  1386.04950\n",
        "\n",
        "***sklearn***\n",
        "\n",
        "-173.17160763263473, 0.378762754, 406.820034, 1386.04950\n",
        "\n",
        "***результати власного методу розрахунку*** прийшлось чекати дуже довго\n",
        "при встановленних початкових значеннях коеф 1, 1, 1, 1 після виконная 10 000 000 ітерацій, результати не дуже схожі на ті, що були отримані першими двома методами\n",
        "\n",
        "\n",
        "\n",
        "\n",
        "\n",
        "\n"
      ],
      "metadata": {
        "id": "dcOxSyEyqJQE"
      }
    }
  ]
}